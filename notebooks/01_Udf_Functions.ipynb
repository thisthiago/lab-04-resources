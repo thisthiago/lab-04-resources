{
  "nbformat": 4,
  "nbformat_minor": 0,
  "metadata": {
    "colab": {
      "provenance": []
    },
    "kernelspec": {
      "name": "python3",
      "display_name": "Python 3"
    },
    "language_info": {
      "name": "python"
    }
  },
  "cells": [
    {
      "cell_type": "markdown",
      "source": [
        "## Confguração de ambiente\n",
        "\n",
        "### 1. Instalação das Dependências:\n",
        "\n",
        "Ao contrário de bibliotecas Python padrão, a utilização do PySpark no Google Colab exige a instalação prévia do Java Development Kit (JDK) e do próprio Apache Spark. O processo é simples e pode ser executado diretamente nas células do notebook."
      ],
      "metadata": {
        "id": "wBYnln-Z7gQu"
      }
    },
    {
      "cell_type": "code",
      "execution_count": 1,
      "metadata": {
        "id": "4R3imvC6601I"
      },
      "outputs": [],
      "source": [
        "# Instalar o OpenJDK 8\n",
        "!apt-get install openjdk-8-jdk-headless -qq > /dev/null\n",
        "\n",
        "# Baixar o Apache Spark (versão 3.5.0 com Hadoop 3)\n",
        "!wget -q https://archive.apache.org/dist/spark/spark-3.5.0/spark-3.5.0-bin-hadoop3.tgz\n",
        "\n",
        "# Extrair o arquivo baixado\n",
        "!tar xf spark-3.5.0-bin-hadoop3.tgz\n",
        "\n",
        "# Instalar a biblioteca findspark\n",
        "!pip install -q findspark"
      ]
    },
    {
      "cell_type": "markdown",
      "source": [
        "### 2. Configuração das Variáveis de Ambiente:\n",
        "Após a instalação, precisamos definir as variáveis de ambiente JAVA_HOME e SPARK_HOME para que o sistema saiba onde encontrar as instalações do Java e do Spark, respectivamente.\n"
      ],
      "metadata": {
        "id": "7ISSc8Xy7to0"
      }
    },
    {
      "cell_type": "code",
      "source": [
        "import os\n",
        "\n",
        "os.environ[\"JAVA_HOME\"] = \"/usr/lib/jvm/java-8-openjdk-amd64\"\n",
        "os.environ[\"SPARK_HOME\"] = \"/content/spark-3.5.0-bin-hadoop3\""
      ],
      "metadata": {
        "id": "z8ewXrkn72eh"
      },
      "execution_count": 2,
      "outputs": []
    },
    {
      "cell_type": "code",
      "source": [
        "import findspark\n",
        "findspark.init()"
      ],
      "metadata": {
        "id": "WrPEXbAJ73uE"
      },
      "execution_count": 3,
      "outputs": []
    },
    {
      "cell_type": "markdown",
      "source": [
        "## Inicializando o PySpark\n"
      ],
      "metadata": {
        "id": "M1ZDTXcM78B8"
      }
    },
    {
      "cell_type": "code",
      "source": [
        "from pyspark.sql import SparkSession\n",
        "\n",
        "spark = SparkSession.builder \\\n",
        "    .master(\"local[*]\") \\\n",
        "    .appName(\"Iniciando com PySpark no Colab\") \\\n",
        "    .getOrCreate()"
      ],
      "metadata": {
        "id": "6V1O0k_E75Pa"
      },
      "execution_count": 4,
      "outputs": []
    },
    {
      "cell_type": "code",
      "source": [
        "df = spark.read.format(\"json\").load('./data/landing/devices/')"
      ],
      "metadata": {
        "id": "JBToKoVf7__M"
      },
      "execution_count": 30,
      "outputs": []
    },
    {
      "cell_type": "code",
      "source": [
        "df.printSchema()"
      ],
      "metadata": {
        "colab": {
          "base_uri": "https://localhost:8080/"
        },
        "id": "Ih1P2AazJr36",
        "outputId": "90870373-5583-4c0f-d771-0f3f026c8f2a"
      },
      "execution_count": 31,
      "outputs": [
        {
          "output_type": "stream",
          "name": "stdout",
          "text": [
            "root\n",
            " |-- build_number: long (nullable = true)\n",
            " |-- dt_current_timestamp: long (nullable = true)\n",
            " |-- id: long (nullable = true)\n",
            " |-- manufacturer: string (nullable = true)\n",
            " |-- model: string (nullable = true)\n",
            " |-- platform: string (nullable = true)\n",
            " |-- serial_number: string (nullable = true)\n",
            " |-- uid: string (nullable = true)\n",
            " |-- user_id: long (nullable = true)\n",
            " |-- version: long (nullable = true)\n",
            "\n"
          ]
        }
      ]
    },
    {
      "cell_type": "code",
      "source": [
        "df.show(1,vertical = True,truncate=False)"
      ],
      "metadata": {
        "colab": {
          "base_uri": "https://localhost:8080/"
        },
        "id": "hyRMiXdYLZ8r",
        "outputId": "e058421c-6a26-4efb-c9c0-cc851ba952ff"
      },
      "execution_count": 32,
      "outputs": [
        {
          "output_type": "stream",
          "name": "stdout",
          "text": [
            "-RECORD 0----------------------------------------------------\n",
            " build_number         | 105                                  \n",
            " dt_current_timestamp | 1654631486481                        \n",
            " id                   | 9293                                 \n",
            " manufacturer         | Apple                                \n",
            " model                | Xiaomi Mi 8 Pro                      \n",
            " platform             | Windows 10 Mobile                    \n",
            " serial_number        | ToFVWLzGTJhQxAaJlDDn                 \n",
            " uid                  | 8f7b83dd-89f9-4dbf-8a72-1763b4b9eb37 \n",
            " user_id              | 5292                                 \n",
            " version              | 286                                  \n",
            "only showing top 1 row\n",
            "\n"
          ]
        }
      ]
    },
    {
      "cell_type": "code",
      "source": [
        "df.count()"
      ],
      "metadata": {
        "colab": {
          "base_uri": "https://localhost:8080/"
        },
        "id": "loR_OgceM3yW",
        "outputId": "3c3f0454-636c-41fd-a36b-6b66da47474b"
      },
      "execution_count": 33,
      "outputs": [
        {
          "output_type": "execute_result",
          "data": {
            "text/plain": [
              "600"
            ]
          },
          "metadata": {},
          "execution_count": 33
        }
      ]
    },
    {
      "cell_type": "markdown",
      "source": [
        "## O que é uma UDF no Spark?\n",
        "\n",
        "No Apache Spark, uma UDF (User Defined Function) é uma função definida pelo usuário que permite aplicar lógica personalizada em colunas de um DataFrame.\n",
        "Ou seja, quando as funções nativas do Spark SQL não conseguem atender a uma transformação específica, você pode criar sua própria função e aplicá-la sobre os dados."
      ],
      "metadata": {
        "id": "VvEwV0ypNGTp"
      }
    },
    {
      "cell_type": "code",
      "source": [
        "from pyspark.sql.functions import udf\n",
        "from pyspark.sql.types import StringType\n",
        "\n",
        "\n",
        "def saudacao(nome):\n",
        "    return f\"Olá, {nome}!\"\n",
        "\n",
        "\n",
        "saudacao_udf = udf(saudacao, StringType())\n",
        "\n",
        "df = spark.createDataFrame([(\"João\",), (\"Maria\",)], [\"nome\"])\n",
        "df = df.withColumn(\"mensagem\", saudacao_udf(df[\"nome\"]))\n",
        "df.show()\n"
      ],
      "metadata": {
        "colab": {
          "base_uri": "https://localhost:8080/"
        },
        "id": "bDkJyPodNhqz",
        "outputId": "076fad65-4aa8-4767-b754-9aded97d98d4"
      },
      "execution_count": 28,
      "outputs": [
        {
          "output_type": "stream",
          "name": "stdout",
          "text": [
            "+-----+-----------+\n",
            "| nome|   mensagem|\n",
            "+-----+-----------+\n",
            "| João| Olá, João!|\n",
            "|Maria|Olá, Maria!|\n",
            "+-----+-----------+\n",
            "\n"
          ]
        }
      ]
    },
    {
      "cell_type": "markdown",
      "source": [
        "### **Vantagens das UDFs**\n",
        "\n",
        "1. **Flexibilidade**: Permite aplicar qualquer lógica em colunas, mesmo que não exista função Spark pronta.\n",
        "2. **Reuso de código**: Você pode transformar funções Python existentes em UDFs e aplicá-las diretamente em DataFrames.\n",
        "3. **Integração**: Funciona tanto com DataFrames quanto com Spark SQL.\n",
        "\n",
        "---\n",
        "\n",
        "### **Desvantagens das UDFs**\n",
        "\n",
        "1. **Performance**: UDFs geralmente são mais lentas que funções nativas do Spark, porque Spark precisa serializar dados entre o JVM e Python (no caso do PySpark).\n",
        "2. **Paralelização limitada**: Como o Spark não consegue otimizar a execução interna de UDFs da mesma forma que funções nativas, pode impactar grandes volumes de dados.\n",
        "3. **Tipos de dados**: É necessário definir explicitamente o tipo de retorno da UDF, o que aumenta a complexidade em funções mais complexas.\n",
        "4. **Depuração mais difícil**: Se houver erro dentro da UDF, o rastreamento pode ser mais complicado do que nas funções nativas do Spark SQL.\n",
        "\n",
        "\n"
      ],
      "metadata": {
        "id": "HQmZ3anFNsmi"
      }
    },
    {
      "cell_type": "markdown",
      "source": [
        "### Exemplo 1: Criar uma coluna que classifica o fabricante como “Apple” ou “Outro”"
      ],
      "metadata": {
        "id": "5o_TYQhcPHpp"
      }
    },
    {
      "cell_type": "code",
      "source": [
        "def classificar_fabricante(marca):\n",
        "    if marca == \"Apple\":\n",
        "        return \"Apple\"\n",
        "    else:\n",
        "        return \"Outro\"\n",
        "\n",
        "classificar_udf = udf(classificar_fabricante, StringType())\n",
        "\n",
        "df = df.withColumn(\"fabricante_classificado\", classificar_udf(df[\"manufacturer\"]))\n",
        "df.show()"
      ],
      "metadata": {
        "colab": {
          "base_uri": "https://localhost:8080/"
        },
        "id": "oonxk2ZpNwdT",
        "outputId": "a89bdf98-97c0-49be-f995-c01b1bbc74e4"
      },
      "execution_count": 34,
      "outputs": [
        {
          "output_type": "stream",
          "name": "stdout",
          "text": [
            "+------------+--------------------+----+------------+--------------------+-----------------+--------------------+--------------------+-------+-------+-----------------------+\n",
            "|build_number|dt_current_timestamp|  id|manufacturer|               model|         platform|       serial_number|                 uid|user_id|version|fabricante_classificado|\n",
            "+------------+--------------------+----+------------+--------------------+-----------------+--------------------+--------------------+-------+-------+-----------------------+\n",
            "|         105|       1654631486481|9293|       Apple|     Xiaomi Mi 8 Pro|Windows 10 Mobile|ToFVWLzGTJhQxAaJlDDn|8f7b83dd-89f9-4db...|   5292|    286|                  Apple|\n",
            "|          96|       1654631486481|5402|      Lenovo|   Samsung Galaxy S4|       Android OS|ToFVWLzGTJhQxAaJlDDn|0b41f920-e0ec-4a4...|   7509|    521|                  Outro|\n",
            "|         376|       1654631486481|7319|       Apple|Samsung Galaxy S7...|      Windows 8.1|     SJMZOmtU0csrv4R|0beb9c3a-aa32-46a...|   1704|    386|                  Apple|\n",
            "|         483|       1654631486481|2447|      Huawei|           OnePlus 3|          Android|9vxM9fCsG9nXg8EjT...|6e78c1d0-509e-4ca...|   3427|    692|                  Outro|\n",
            "|         400|       1654631486481|9744|        Dell|     Xiaomi Mi 8 Pro|       Firefox OS|39gPmcOKpwhDezLdi...|188966ee-7528-4ad...|   4960|    724|                  Outro|\n",
            "|         370|       1654631486481| 984|       Apple|  Huawei Mate 10 Pro|Windows 10 Mobile|pEekWH7zGxVITv6NT...|db7a7c16-28b4-442...|   4905|    892|                  Apple|\n",
            "|         226|       1654631486481|5793|        Acer|Samsung Galaxy S6...|    Windows Phone|Pbn8^`LkKPi4QJ79x...|d96466f3-6127-408...|   9616|    866|                  Outro|\n",
            "|         403|       1654631486481|9821|     Xiamomi|        Google Pixel|        Danger OS|9vxM9fCsG9nXg8EjT...|7aff85e3-008c-4a0...|   1650|     75|                  Outro|\n",
            "|         487|       1654631486481|3964|        Dell|   Samsung Galaxy S7|       BlackBerry|Hk4BoF=%ud/PV4K-/...|6f806ad6-ef68-418...|   2080|    125|                  Outro|\n",
            "|         494|       1654631486481|5287|       Apple|       Huawei Mate 9|          Android|ToFVWLzGTJhQxAaJlDDn|d1de234f-d3ac-464...|   2682|    976|                  Apple|\n",
            "|         122|       1654631486481|9047|        Acer|        Google Pixel|       Windows RT|ejfjnRNInxh0363JC2WM|18d87eb0-1388-474...|   4361|    843|                  Outro|\n",
            "|         331|       1654631486481|1928|          HP|      Huawei Mate 20|              iOS|     OezkV3nTii0sMK0|67d5f418-3060-44b...|   5367|    512|                  Outro|\n",
            "|         316|       1654631486481|1466|          HP|     Huawei P10 Plus|       BlackBerry|UVr864F8zUbyYOAUd...|2257e4eb-3e02-4a2...|   7139|    710|                  Outro|\n",
            "|          49|       1654631486481|9492|     OnePlus|   Samsung Galaxy S8|       Firefox OS|CdNevWfqDPQw4iJgU...|7ed24042-19a0-407...|   6615|    589|                  Outro|\n",
            "|         255|       1654631486481|5436|     OnePlus|     Xiaomi Mi 8 Pro|Windows 10 Mobile|     SJMZOmtU0csrv4R|9ffbc918-ad12-490...|   6304|    831|                  Outro|\n",
            "|         147|       1654631486481|8019|     OnePlus|Samsung Galaxy S7...|       BlackBerry|_usDGH^%'4dSYvUtH...|86eeb052-1351-4de...|   2783|    619|                  Outro|\n",
            "|         249|       1654631486481|3508|        ASUS|          OnePlus 5T|        Windows 8|_usDGH^%'4dSYvUtH...|120b8c33-7c85-444...|   9732|    953|                  Outro|\n",
            "|         468|       1654631486481|6501|        Dell|   iPhone 6 / 6 Plus|            webOS|&XwUS6yR2N&+Z`$94...|765b07b2-5ee0-4d0...|   2002|    455|                  Outro|\n",
            "|         216|       1654631486481| 643|        ASUS|           OnePlus 5|     Ubuntu Touch|ejfjnRNInxh0363JC2WM|fd9cb647-84f6-4ce...|   6515|    925|                  Outro|\n",
            "|         168|       1654631486481|7824|        Acer|   Samsung Galaxy S4|       Android OS|UVr864F8zUbyYOAUd...|7a7c162a-d9b7-449...|   3456|    818|                  Outro|\n",
            "+------------+--------------------+----+------------+--------------------+-----------------+--------------------+--------------------+-------+-------+-----------------------+\n",
            "only showing top 20 rows\n",
            "\n"
          ]
        }
      ]
    },
    {
      "cell_type": "markdown",
      "source": [
        "### Exemplo 2: Extrair o ano a partir do timestamp"
      ],
      "metadata": {
        "id": "kB8r4m00PeQH"
      }
    },
    {
      "cell_type": "code",
      "source": [
        "import datetime\n",
        "from pyspark.sql.types import IntegerType\n",
        "\n",
        "def extrair_ano(ts):\n",
        "    return datetime.datetime.fromtimestamp(ts / 1000).year\n",
        "\n",
        "extrair_ano_udf = udf(extrair_ano, IntegerType())\n",
        "\n",
        "df = df.withColumn(\"ano\", extrair_ano_udf(df[\"dt_current_timestamp\"]))\n",
        "df.show()"
      ],
      "metadata": {
        "colab": {
          "base_uri": "https://localhost:8080/"
        },
        "id": "j9-nG12TPjPE",
        "outputId": "1435d1db-c3f5-4b14-f0af-70d6e44822fd"
      },
      "execution_count": 35,
      "outputs": [
        {
          "output_type": "stream",
          "name": "stdout",
          "text": [
            "+------------+--------------------+----+------------+--------------------+-----------------+--------------------+--------------------+-------+-------+-----------------------+----+\n",
            "|build_number|dt_current_timestamp|  id|manufacturer|               model|         platform|       serial_number|                 uid|user_id|version|fabricante_classificado| ano|\n",
            "+------------+--------------------+----+------------+--------------------+-----------------+--------------------+--------------------+-------+-------+-----------------------+----+\n",
            "|         105|       1654631486481|9293|       Apple|     Xiaomi Mi 8 Pro|Windows 10 Mobile|ToFVWLzGTJhQxAaJlDDn|8f7b83dd-89f9-4db...|   5292|    286|                  Apple|2022|\n",
            "|          96|       1654631486481|5402|      Lenovo|   Samsung Galaxy S4|       Android OS|ToFVWLzGTJhQxAaJlDDn|0b41f920-e0ec-4a4...|   7509|    521|                  Outro|2022|\n",
            "|         376|       1654631486481|7319|       Apple|Samsung Galaxy S7...|      Windows 8.1|     SJMZOmtU0csrv4R|0beb9c3a-aa32-46a...|   1704|    386|                  Apple|2022|\n",
            "|         483|       1654631486481|2447|      Huawei|           OnePlus 3|          Android|9vxM9fCsG9nXg8EjT...|6e78c1d0-509e-4ca...|   3427|    692|                  Outro|2022|\n",
            "|         400|       1654631486481|9744|        Dell|     Xiaomi Mi 8 Pro|       Firefox OS|39gPmcOKpwhDezLdi...|188966ee-7528-4ad...|   4960|    724|                  Outro|2022|\n",
            "|         370|       1654631486481| 984|       Apple|  Huawei Mate 10 Pro|Windows 10 Mobile|pEekWH7zGxVITv6NT...|db7a7c16-28b4-442...|   4905|    892|                  Apple|2022|\n",
            "|         226|       1654631486481|5793|        Acer|Samsung Galaxy S6...|    Windows Phone|Pbn8^`LkKPi4QJ79x...|d96466f3-6127-408...|   9616|    866|                  Outro|2022|\n",
            "|         403|       1654631486481|9821|     Xiamomi|        Google Pixel|        Danger OS|9vxM9fCsG9nXg8EjT...|7aff85e3-008c-4a0...|   1650|     75|                  Outro|2022|\n",
            "|         487|       1654631486481|3964|        Dell|   Samsung Galaxy S7|       BlackBerry|Hk4BoF=%ud/PV4K-/...|6f806ad6-ef68-418...|   2080|    125|                  Outro|2022|\n",
            "|         494|       1654631486481|5287|       Apple|       Huawei Mate 9|          Android|ToFVWLzGTJhQxAaJlDDn|d1de234f-d3ac-464...|   2682|    976|                  Apple|2022|\n",
            "|         122|       1654631486481|9047|        Acer|        Google Pixel|       Windows RT|ejfjnRNInxh0363JC2WM|18d87eb0-1388-474...|   4361|    843|                  Outro|2022|\n",
            "|         331|       1654631486481|1928|          HP|      Huawei Mate 20|              iOS|     OezkV3nTii0sMK0|67d5f418-3060-44b...|   5367|    512|                  Outro|2022|\n",
            "|         316|       1654631486481|1466|          HP|     Huawei P10 Plus|       BlackBerry|UVr864F8zUbyYOAUd...|2257e4eb-3e02-4a2...|   7139|    710|                  Outro|2022|\n",
            "|          49|       1654631486481|9492|     OnePlus|   Samsung Galaxy S8|       Firefox OS|CdNevWfqDPQw4iJgU...|7ed24042-19a0-407...|   6615|    589|                  Outro|2022|\n",
            "|         255|       1654631486481|5436|     OnePlus|     Xiaomi Mi 8 Pro|Windows 10 Mobile|     SJMZOmtU0csrv4R|9ffbc918-ad12-490...|   6304|    831|                  Outro|2022|\n",
            "|         147|       1654631486481|8019|     OnePlus|Samsung Galaxy S7...|       BlackBerry|_usDGH^%'4dSYvUtH...|86eeb052-1351-4de...|   2783|    619|                  Outro|2022|\n",
            "|         249|       1654631486481|3508|        ASUS|          OnePlus 5T|        Windows 8|_usDGH^%'4dSYvUtH...|120b8c33-7c85-444...|   9732|    953|                  Outro|2022|\n",
            "|         468|       1654631486481|6501|        Dell|   iPhone 6 / 6 Plus|            webOS|&XwUS6yR2N&+Z`$94...|765b07b2-5ee0-4d0...|   2002|    455|                  Outro|2022|\n",
            "|         216|       1654631486481| 643|        ASUS|           OnePlus 5|     Ubuntu Touch|ejfjnRNInxh0363JC2WM|fd9cb647-84f6-4ce...|   6515|    925|                  Outro|2022|\n",
            "|         168|       1654631486481|7824|        Acer|   Samsung Galaxy S4|       Android OS|UVr864F8zUbyYOAUd...|7a7c162a-d9b7-449...|   3456|    818|                  Outro|2022|\n",
            "+------------+--------------------+----+------------+--------------------+-----------------+--------------------+--------------------+-------+-------+-----------------------+----+\n",
            "only showing top 20 rows\n",
            "\n"
          ]
        }
      ]
    },
    {
      "cell_type": "markdown",
      "source": [
        "## **Exemplo 3 : Validar e classificar dispositivos “únicos por usuário”**\n",
        "\n",
        "**Problema:**\n",
        "\n",
        "* Cada usuário (`user_id`) pode ter vários dispositivos.\n",
        "* Queremos criar uma **categoria de dispositivo primário, secundário ou duplicado** com base em:\n",
        "\n",
        "  * `serial_number`\n",
        "  * `model`\n",
        "  * `platform`\n",
        "* Regras:\n",
        "\n",
        "  1. Se o usuário tiver **um único dispositivo com esse serial**, marca como `Primário`.\n",
        "  2. Se tiver **mais de um dispositivo com mesmo serial**, marca como `Duplicado`.\n",
        "  3. Se o serial for novo para o usuário, mas o modelo já existe, marca como `Secundário`.\n"
      ],
      "metadata": {
        "id": "O2G0FAm_Pr76"
      }
    },
    {
      "cell_type": "code",
      "source": [
        "df.createOrReplaceTempView(\"devices\")"
      ],
      "metadata": {
        "id": "RSoOrJaFP_Tj"
      },
      "execution_count": 36,
      "outputs": []
    },
    {
      "cell_type": "code",
      "source": [
        "spark.sql(\"\"\"\n",
        "WITH serial_counts AS (\n",
        "    SELECT user_id, serial_number, model, COUNT(*) AS serial_count\n",
        "    FROM devices\n",
        "    GROUP BY user_id, serial_number, model\n",
        "),\n",
        "model_seen AS (\n",
        "    SELECT d1.user_id, d1.model,\n",
        "           CASE WHEN d2.model IS NOT NULL THEN true ELSE false END AS model_seen_before\n",
        "    FROM devices d1\n",
        "    LEFT JOIN devices d2\n",
        "      ON d1.user_id = d2.user_id\n",
        "     AND d1.model = d2.model\n",
        "     AND d1.serial_number != d2.serial_number\n",
        ")\n",
        "SELECT sc.user_id, sc.serial_number, sc.model,\n",
        "       CASE\n",
        "           WHEN sc.serial_count > 1 THEN 'Duplicado'\n",
        "           WHEN ms.model_seen_before THEN 'Secundário'\n",
        "           ELSE 'Primário'\n",
        "       END AS device_category\n",
        "FROM serial_counts sc\n",
        "LEFT JOIN model_seen ms\n",
        "  ON sc.user_id = ms.user_id AND sc.model = ms.model\n",
        "\"\"\").show()\n",
        "\n"
      ],
      "metadata": {
        "colab": {
          "base_uri": "https://localhost:8080/"
        },
        "id": "Q7v44kkqQCeq",
        "outputId": "66b5627f-2af1-4fb7-da12-1c276feda7d7"
      },
      "execution_count": 39,
      "outputs": [
        {
          "output_type": "stream",
          "name": "stdout",
          "text": [
            "+-------+--------------------+--------------------+---------------+\n",
            "|user_id|       serial_number|               model|device_category|\n",
            "+-------+--------------------+--------------------+---------------+\n",
            "|   3949|UVr864F8zUbyYOAUd...|Xiaomi Redmi Note...|      Duplicado|\n",
            "|   3949|UVr864F8zUbyYOAUd...|Xiaomi Redmi Note...|      Duplicado|\n",
            "|   8622|T6UuMUTani3VGY4vXGia|           iPhone 4S|      Duplicado|\n",
            "|   8622|T6UuMUTani3VGY4vXGia|           iPhone 4S|      Duplicado|\n",
            "|    246|pEekWH7zGxVITv6NT...| Xiaomi Pocophone F1|       Primário|\n",
            "|   7509|ToFVWLzGTJhQxAaJlDDn|   Samsung Galaxy S4|      Duplicado|\n",
            "|   7509|ToFVWLzGTJhQxAaJlDDn|   Samsung Galaxy S4|      Duplicado|\n",
            "|   9895|39gPmcOKpwhDezLdi...|          OnePlus 6T|       Primário|\n",
            "|   7647|pEekWH7zGxVITv6NT...|   Samsung Galaxy S8|       Primário|\n",
            "|   7876|Yr9Vt13BlgvXO9zgJ...|           OnePlus 2|       Primário|\n",
            "|   6770|xC36G3Xy4n2Fu90ke...|          Huawei P10|       Primário|\n",
            "|   4666|Yr9Vt13BlgvXO9zgJ...|   iPhone 6 / 6 Plus|      Duplicado|\n",
            "|   4666|Yr9Vt13BlgvXO9zgJ...|   iPhone 6 / 6 Plus|      Duplicado|\n",
            "|   4697|UVr864F8zUbyYOAUd...|          OnePlus 3T|       Primário|\n",
            "|   5153|tL&^J@24CVF=zP46L...| iPhone 6S / 6S Plus|      Duplicado|\n",
            "|   5153|tL&^J@24CVF=zP46L...| iPhone 6S / 6S Plus|      Duplicado|\n",
            "|   6934|_usDGH^%'4dSYvUtH...|          OnePlus 6T|      Duplicado|\n",
            "|   6934|_usDGH^%'4dSYvUtH...|          OnePlus 6T|      Duplicado|\n",
            "|   5995|trDuJXhT8PnD3JEtw...|   Samsung Galaxy S1|       Primário|\n",
            "|   5132|tL&^J@24CVF=zP46L...|  Huawei Mate 10 Pro|      Duplicado|\n",
            "+-------+--------------------+--------------------+---------------+\n",
            "only showing top 20 rows\n",
            "\n"
          ]
        }
      ]
    },
    {
      "cell_type": "markdown",
      "source": [
        "1. O SQL funciona, mas é bem mais complexo, com CTEs, joins e subqueries.\n",
        "\n",
        "2. Para datasets grandes, esse tipo de join pode explodir a quantidade de dados intermediários.\n",
        "\n",
        "3. A UDF é muito mais legível para lógica condicional complexa que depende de múltiplas colunas e estado do grupo."
      ],
      "metadata": {
        "id": "rWRp1JxKQNrJ"
      }
    },
    {
      "cell_type": "code",
      "source": [
        "from pyspark.sql import Window\n",
        "from pyspark.sql.functions import col, count\n",
        "from pyspark.sql.types import StringType\n",
        "\n",
        "\n",
        "# 1. Criar um contador de dispositivos por usuário\n",
        "window_user = Window.partitionBy(\"user_id\", \"serial_number\")\n",
        "df_counted = df.withColumn(\"serial_count\", count(\"*\").over(window_user))\n",
        "\n",
        "\n",
        "def categorize_device(serial_count, model_seen_before):\n",
        "    if serial_count > 1:\n",
        "        return \"Duplicado\"\n",
        "    elif model_seen_before:\n",
        "        return \"Secundário\"\n",
        "    else:\n",
        "        return \"Primário\"\n",
        "\n",
        "# 3. Para simular se o modelo já apareceu, criamos um lookup temporário\n",
        "# Aqui simplificado: assumimos False (poderia vir de outro DataFrame/consulta)\n",
        "categorize_udf = udf(lambda serial_count, model_seen_before=False: categorize_device(serial_count, model_seen_before), StringType())\n",
        "\n",
        "# 4. Aplicar UDF\n",
        "df_final = df_counted.withColumn(\"device_category\", categorize_udf(col(\"serial_count\")))\n",
        "df_final.select(\"user_id\",\"serial_number\",\"model\",\"device_category\").show(truncate=False)\n"
      ],
      "metadata": {
        "colab": {
          "base_uri": "https://localhost:8080/"
        },
        "id": "-qVYktX4QVDx",
        "outputId": "47ec633d-bf9b-4f06-9a65-c3936ec98a57"
      },
      "execution_count": 40,
      "outputs": [
        {
          "output_type": "stream",
          "name": "stdout",
          "text": [
            "+-------+------------------------------+-------------------+---------------+\n",
            "|user_id|serial_number                 |model              |device_category|\n",
            "+-------+------------------------------+-------------------+---------------+\n",
            "|1      |VMTnd2mMQWvjbtNcZh7UIdULKb1mMo|OnePlus 3          |Primário       |\n",
            "|8      |Kl2ZroV9a                     |Huawei Mate 20     |Primário       |\n",
            "|14     |tL&^J@24CVF=zP46Lxixk`_a#=o6c5|iPhone 5C          |Duplicado      |\n",
            "|14     |tL&^J@24CVF=zP46Lxixk`_a#=o6c5|iPhone 5C          |Duplicado      |\n",
            "|26     |Kl2ZroV9a                     |Samsung Galaxy S3  |Primário       |\n",
            "|33     |ToFVWLzGTJhQxAaJlDDn          |iPhone 4S          |Primário       |\n",
            "|53     |m6aHiiHOc                     |Huawei Mate 9      |Primário       |\n",
            "|97     |ToFVWLzGTJhQxAaJlDDn          |OnePlus 6T         |Primário       |\n",
            "|98     |9vxM9fCsG9nXg8EjTN5ygV2LvaDZdG|iPhone 3GS         |Primário       |\n",
            "|148    |T6UuMUTani3VGY4vXGia          |Huawei Mate 20 Pro |Primário       |\n",
            "|148    |pEekWH7zGxVITv6NTa5KHjLSwr5Ie4|iPhone 3GS         |Primário       |\n",
            "|155    |hrR8nflThDDaSXO               |iPhone 5           |Primário       |\n",
            "|176    |05skEogwZlX7j6twhhXX          |iPhone SE          |Primário       |\n",
            "|178    |ejfjnRNInxh0363JC2WM          |iPhone 3G          |Primário       |\n",
            "|182    |39gPmcOKpwhDezLdiIOZ7SH89Pbjp4|OnePlus One        |Primário       |\n",
            "|226    |tL&^J@24CVF=zP46Lxixk`_a#=o6c5|iPhone X           |Primário       |\n",
            "|246    |pEekWH7zGxVITv6NTa5KHjLSwr5Ie4|Xiaomi Pocophone F1|Primário       |\n",
            "|251    |Hk4BoF=%ud/PV4K-/NvEq28Q/&HNq7|Huawei P10         |Primário       |\n",
            "|256    |Pbn8^`LkKPi4QJ79xk3SnW'_DbV*CL|OnePlus 3          |Primário       |\n",
            "|256    |ejfjnRNInxh0363JC2WM          |iPhone 4S          |Primário       |\n",
            "+-------+------------------------------+-------------------+---------------+\n",
            "only showing top 20 rows\n",
            "\n"
          ]
        }
      ]
    },
    {
      "cell_type": "code",
      "source": [
        "df_final.where(\"user_id = 3949\").show()"
      ],
      "metadata": {
        "colab": {
          "base_uri": "https://localhost:8080/"
        },
        "id": "Eed-7w1ZQiWM",
        "outputId": "d9ad008e-e9f1-49df-a735-cfbee88c4c1f"
      },
      "execution_count": 42,
      "outputs": [
        {
          "output_type": "stream",
          "name": "stdout",
          "text": [
            "+------------+--------------------+----+------------+--------------------+--------+--------------------+--------------------+-------+-------+-----------------------+----+------------+---------------+\n",
            "|build_number|dt_current_timestamp|  id|manufacturer|               model|platform|       serial_number|                 uid|user_id|version|fabricante_classificado| ano|serial_count|device_category|\n",
            "+------------+--------------------+----+------------+--------------------+--------+--------------------+--------------------+-------+-------+-----------------------+----+------------+---------------+\n",
            "|         330|       1654631486481|5872|          HP|Xiaomi Redmi Note...|   webOS|UVr864F8zUbyYOAUd...|37bdbb44-2a44-472...|   3949|    581|                  Outro|2022|           2|      Duplicado|\n",
            "|         330|       1654631486481|5872|          HP|Xiaomi Redmi Note...|   webOS|UVr864F8zUbyYOAUd...|37bdbb44-2a44-472...|   3949|    581|                  Outro|2022|           2|      Duplicado|\n",
            "+------------+--------------------+----+------------+--------------------+--------+--------------------+--------------------+-------+-------+-----------------------+----+------------+---------------+\n",
            "\n"
          ]
        }
      ]
    },
    {
      "cell_type": "markdown",
      "source": [
        "Perfeito! Vamos resumir de forma **didática e prática** o que você precisa para **criar, declarar e usar uma UDF no Spark**:\n",
        "\n",
        "---\n",
        "\n",
        "####  Ter uma função Python “normal”**\n",
        "\n",
        "A UDF sempre começa com uma função Python que faz o que você quer linha a linha.\n",
        "\n",
        "Exemplo:\n",
        "\n",
        "```python\n",
        "def classify_build(build_number):\n",
        "    if build_number > 400:\n",
        "        return \"Novo\"\n",
        "    else:\n",
        "        return \"Antigo\"\n",
        "```\n",
        "\n",
        "---\n",
        "\n",
        "#### Registrar a função como UDF**\n",
        "\n",
        "Você precisa transformar a função Python em uma **UDF Spark**, indicando o tipo de retorno:\n",
        "\n",
        "```python\n",
        "from pyspark.sql.functions import udf\n",
        "from pyspark.sql.types import StringType\n",
        "\n",
        "classify_udf = udf(classify_build, StringType())\n",
        "```\n",
        "\n",
        "* `udf(func, returnType)` → recebe a função e o tipo do retorno.\n",
        "* Tipos comuns: `StringType()`, `IntegerType()`, `DoubleType()`, `BooleanType()`, etc.\n",
        "\n",
        "---\n",
        "\n",
        "#### Aplicar a UDF em uma coluna do DataFrame**\n",
        "\n",
        "Você usa `withColumn` ou `select` e passa a coluna como argumento:\n",
        "\n",
        "```python\n",
        "from pyspark.sql.functions import col\n",
        "\n",
        "df = df.withColumn(\"build_category\", classify_udf(col(\"build_number\")))\n",
        "```\n",
        "\n",
        "* `col(\"build_number\")` passa o valor da coluna para a função.\n",
        "* Spark aplica a função **linha a linha** e cria a nova coluna `build_category`.\n",
        "\n",
        "---\n",
        "\n",
        "####  UDF com múltiplos argumentos**\n",
        "\n",
        "Se a função precisa de mais de uma coluna:\n",
        "\n",
        "```python\n",
        "def device_info(build_number: int, is_active: bool, platform: str):\n",
        "    if build_number > 400 and is_active and \"Windows\" in platform:\n",
        "        return \"Ativo Windows Novo\"\n",
        "    elif build_number > 400:\n",
        "        return \"Windows Antigo\"\n",
        "    else:\n",
        "        return \"Outro\"\n",
        "\n",
        "device_info_udf = udf(device_info, StringType())\n",
        "\n",
        "df = df.withColumn(\"device_status\", device_info_udf(col(\"build_number\"), col(\"active\"), col(\"platform\")))\n",
        "```\n",
        "\n",
        "#### Tipos de dado diferentes**\n",
        "\n",
        "Sim, a UDF pode receber **argumentos de tipos diferentes**. Por exemplo:\n",
        "\n",
        "```python\n",
        "from pyspark.sql.types import IntegerType, BooleanType, StringType\n",
        "from pyspark.sql.functions import col, udf\n",
        "\n",
        "def device_info(build_number: int, is_active: bool, platform: str):\n",
        "    if build_number > 400 and is_active and \"Windows\" in platform:\n",
        "        return \"Ativo Windows Novo\"\n",
        "    elif build_number > 400:\n",
        "        return \"Windows Antigo\"\n",
        "    else:\n",
        "        return \"Outro\"\n",
        "\n",
        "device_info_udf = udf(device_info, StringType())\n",
        "\n",
        "df = df.withColumn(\"device_status\", device_info_udf(col(\"build_number\"), col(\"active\"), col(\"platform\")))\n",
        "```\n",
        "\n",
        "* Aqui `build_number` é `IntegerType`, `is_active` é `BooleanType` e `platform` é `StringType`.\n",
        "* Spark lida com diferentes tipos, **desde que a função Python consiga processá-los**.\n",
        "\n",
        "---\n",
        "\n",
        "#### Uma **UDF só pode retornar um valor por linha**\n",
        "\n",
        "\n",
        "\n",
        "\n"
      ],
      "metadata": {
        "id": "YeQS4fdJRLMB"
      }
    },
    {
      "cell_type": "markdown",
      "source": [],
      "metadata": {
        "id": "X3EVlz2hPYRD"
      }
    }
  ]
}