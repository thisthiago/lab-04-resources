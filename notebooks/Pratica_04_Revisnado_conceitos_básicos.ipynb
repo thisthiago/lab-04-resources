{
  "nbformat": 4,
  "nbformat_minor": 0,
  "metadata": {
    "colab": {
      "provenance": []
    },
    "kernelspec": {
      "name": "python3",
      "display_name": "Python 3"
    },
    "language_info": {
      "name": "python"
    }
  },
  "cells": [
    {
      "cell_type": "markdown",
      "source": [
        "## Confguração de ambiente\n",
        "\n",
        "### 1. Instalação das Dependências:\n",
        "\n",
        "Ao contrário de bibliotecas Python padrão, a utilização do PySpark no Google Colab exige a instalação prévia do Java Development Kit (JDK) e do próprio Apache Spark. O processo é simples e pode ser executado diretamente nas células do notebook."
      ],
      "metadata": {
        "id": "wBYnln-Z7gQu"
      }
    },
    {
      "cell_type": "code",
      "execution_count": 1,
      "metadata": {
        "id": "4R3imvC6601I"
      },
      "outputs": [],
      "source": [
        "# Instalar o OpenJDK 8\n",
        "!apt-get install openjdk-8-jdk-headless -qq > /dev/null\n",
        "\n",
        "# Baixar o Apache Spark (versão 3.5.0 com Hadoop 3)\n",
        "!wget -q https://archive.apache.org/dist/spark/spark-3.5.0/spark-3.5.0-bin-hadoop3.tgz\n",
        "\n",
        "# Extrair o arquivo baixado\n",
        "!tar xf spark-3.5.0-bin-hadoop3.tgz\n",
        "\n",
        "# Instalar a biblioteca findspark\n",
        "!pip install -q findspark"
      ]
    },
    {
      "cell_type": "markdown",
      "source": [
        "### 2. Configuração das Variáveis de Ambiente:\n",
        "Após a instalação, precisamos definir as variáveis de ambiente JAVA_HOME e SPARK_HOME para que o sistema saiba onde encontrar as instalações do Java e do Spark, respectivamente.\n"
      ],
      "metadata": {
        "id": "7ISSc8Xy7to0"
      }
    },
    {
      "cell_type": "code",
      "source": [
        "import os\n",
        "\n",
        "os.environ[\"JAVA_HOME\"] = \"/usr/lib/jvm/java-8-openjdk-amd64\"\n",
        "os.environ[\"SPARK_HOME\"] = \"/content/spark-3.5.0-bin-hadoop3\""
      ],
      "metadata": {
        "id": "z8ewXrkn72eh"
      },
      "execution_count": 2,
      "outputs": []
    },
    {
      "cell_type": "code",
      "source": [
        "import findspark\n",
        "findspark.init()"
      ],
      "metadata": {
        "id": "WrPEXbAJ73uE"
      },
      "execution_count": 3,
      "outputs": []
    },
    {
      "cell_type": "markdown",
      "source": [
        "## Inicializando o PySpark\n"
      ],
      "metadata": {
        "id": "M1ZDTXcM78B8"
      }
    },
    {
      "cell_type": "code",
      "source": [
        "from pyspark.sql import SparkSession\n",
        "\n",
        "spark = SparkSession.builder \\\n",
        "    .master(\"local[*]\") \\\n",
        "    .appName(\"Iniciando com PySpark no Colab\") \\\n",
        "    .getOrCreate()"
      ],
      "metadata": {
        "id": "6V1O0k_E75Pa"
      },
      "execution_count": 4,
      "outputs": []
    },
    {
      "cell_type": "code",
      "source": [
        "from pyspark.sql import Row\n",
        "dados = [Row(nome=\"Ana\", idade=28, cidade=\"São Paulo\"),\n",
        "         Row(nome=\"Bruno\", idade=35, cidade=\"Rio de Janeiro\"),\n",
        "         Row(nome=\"Carla\", idade=22, cidade=\"Belo Horizonte\"),\n",
        "         Row(nome=\"Daniel\", idade=41, cidade=\"São Paulo\")]\n",
        "\n",
        "# Criar o DataFrame\n",
        "df = spark.createDataFrame(dados)\n",
        "\n",
        "df.show()"
      ],
      "metadata": {
        "colab": {
          "base_uri": "https://localhost:8080/"
        },
        "id": "JBToKoVf7__M",
        "outputId": "a909d512-32fe-41ed-8f91-c2fe87081348"
      },
      "execution_count": 6,
      "outputs": [
        {
          "output_type": "stream",
          "name": "stdout",
          "text": [
            "+------+-----+--------------+\n",
            "|  nome|idade|        cidade|\n",
            "+------+-----+--------------+\n",
            "|   Ana|   28|     São Paulo|\n",
            "| Bruno|   35|Rio de Janeiro|\n",
            "| Carla|   22|Belo Horizonte|\n",
            "|Daniel|   41|     São Paulo|\n",
            "+------+-----+--------------+\n",
            "\n"
          ]
        }
      ]
    },
    {
      "cell_type": "code",
      "source": [],
      "metadata": {
        "id": "1r9hhKNe8J_s"
      },
      "execution_count": null,
      "outputs": []
    }
  ]
}