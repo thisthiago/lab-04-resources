{
  "cells": [
    {
      "cell_type": "markdown",
      "metadata": {
        "id": "uluey1EVhYfd"
      },
      "source": [
        "# Estatísticas em PySpark\n",
        "\n"
      ],
      "id": "uluey1EVhYfd"
    },
    {
      "cell_type": "markdown",
      "metadata": {
        "id": "FnnnGgTZhYff"
      },
      "source": [
        "## 0. Importações e Sessão Spark"
      ],
      "id": "FnnnGgTZhYff"
    },
    {
      "cell_type": "code",
      "source": [
        "# Instalar o OpenJDK 8\n",
        "!apt-get install openjdk-8-jdk-headless -qq > /dev/null\n",
        "\n",
        "# Baixar o Apache Spark (versão 3.5.0 com Hadoop 3)\n",
        "!wget -q https://archive.apache.org/dist/spark/spark-3.5.0/spark-3.5.0-bin-hadoop3.tgz\n",
        "\n",
        "# Extrair o arquivo baixado\n",
        "!tar xf spark-3.5.0-bin-hadoop3.tgz\n",
        "\n",
        "# Instalar a biblioteca findspark\n",
        "!pip install -q findspark\n",
        "\n",
        "import os\n",
        "\n",
        "os.environ[\"JAVA_HOME\"] = \"/usr/lib/jvm/java-8-openjdk-amd64\"\n",
        "os.environ[\"SPARK_HOME\"] = \"/content/spark-3.5.0-bin-hadoop3\"\n",
        "\n",
        "import findspark\n",
        "findspark.init()"
      ],
      "metadata": {
        "id": "e2mBg77lhiPA"
      },
      "id": "e2mBg77lhiPA",
      "execution_count": 1,
      "outputs": []
    },
    {
      "cell_type": "code",
      "metadata": {
        "colab": {
          "base_uri": "https://localhost:8080/"
        },
        "id": "MU2qDTXKhYfg",
        "outputId": "da37c958-aab0-488c-c903-f1683e55759e"
      },
      "source": [
        "from pyspark.sql import SparkSession\n",
        "from pyspark.sql.types import *\n",
        "from pyspark.sql import functions as F\n",
        "from pyspark.sql import Window\n",
        "\n",
        "print(\"Iniciando sessão Spark...\")\n",
        "spark = (SparkSession.builder\n",
        "                    .appName('EstatisticasPySpark')\n",
        "                    .getOrCreate())\n",
        "print(\"Sessão Spark criada com sucesso!\")"
      ],
      "id": "MU2qDTXKhYfg",
      "execution_count": 2,
      "outputs": [
        {
          "output_type": "stream",
          "name": "stdout",
          "text": [
            "🚀 Iniciando sessão Spark...\n",
            "✅ Sessão Spark criada com sucesso!\n"
          ]
        }
      ]
    },
    {
      "cell_type": "markdown",
      "metadata": {
        "id": "I7axDDPdhYfi"
      },
      "source": [
        "## 1. Criando um Dataset de Exemplo"
      ],
      "id": "I7axDDPdhYfi"
    },
    {
      "cell_type": "code",
      "metadata": {
        "colab": {
          "base_uri": "https://localhost:8080/"
        },
        "id": "OngKcwpIhYfi",
        "outputId": "2bb65b35-7fbe-4029-9f67-301bd289bbdb"
      },
      "source": [
        "schema = StructType([\n",
        "    StructField(\"nome\", StringType(), True),\n",
        "    StructField(\"idade\", IntegerType(), True),\n",
        "    StructField(\"cidade\", StringType(), True),\n",
        "    StructField(\"salario\", DoubleType(), True)\n",
        "])\n",
        "\n",
        "data = [\n",
        "    (\"Alice\", 25, \"São Paulo\", 5000.0),\n",
        "    (\"Bruno\", 30, \"Rio de Janeiro\", 6500.0),\n",
        "    (\"Carlos\", None, \"Belo Horizonte\", 4800.0),\n",
        "    (\"Diana\", 35, \"Porto Alegre\", 7200.0),\n",
        "    (\"Eduardo\", 28, None, 5500.0),\n",
        "    (\"Fernanda\", 32, \"Salvador\", None),\n",
        "    (\"Gabriel\", 29, \"Brasília\", 6800.0),\n",
        "    (\"Helena\", 27, \"Recife\", 5300.0),\n",
        "    (\"Igor\", 31, \"Fortaleza\", 6000.0),\n",
        "    (\"Juliana\", 26, \"Curitiba\", 5800.0)\n",
        "]\n",
        "\n",
        "df = spark.createDataFrame(data, schema)\n",
        "df.show()\n",
        "print(f\"📈 Dimensões: {df.count()} linhas, {len(df.columns)} colunas\")\n",
        "print(f\"📋 Colunas: {df.columns}\")"
      ],
      "id": "OngKcwpIhYfi",
      "execution_count": 3,
      "outputs": [
        {
          "output_type": "stream",
          "name": "stdout",
          "text": [
            "+--------+-----+--------------+-------+\n",
            "|    nome|idade|        cidade|salario|\n",
            "+--------+-----+--------------+-------+\n",
            "|   Alice|   25|     São Paulo| 5000.0|\n",
            "|   Bruno|   30|Rio de Janeiro| 6500.0|\n",
            "|  Carlos| NULL|Belo Horizonte| 4800.0|\n",
            "|   Diana|   35|  Porto Alegre| 7200.0|\n",
            "| Eduardo|   28|          NULL| 5500.0|\n",
            "|Fernanda|   32|      Salvador|   NULL|\n",
            "| Gabriel|   29|      Brasília| 6800.0|\n",
            "|  Helena|   27|        Recife| 5300.0|\n",
            "|    Igor|   31|     Fortaleza| 6000.0|\n",
            "| Juliana|   26|      Curitiba| 5800.0|\n",
            "+--------+-----+--------------+-------+\n",
            "\n",
            "📈 Dimensões: 10 linhas, 4 colunas\n",
            "📋 Colunas: ['nome', 'idade', 'cidade', 'salario']\n"
          ]
        }
      ]
    },
    {
      "cell_type": "markdown",
      "metadata": {
        "id": "na7zktW6hYfi"
      },
      "source": [
        "## 2. Estatísticas Básicas com `describe()`"
      ],
      "id": "na7zktW6hYfi"
    },
    {
      "cell_type": "code",
      "metadata": {
        "colab": {
          "base_uri": "https://localhost:8080/"
        },
        "id": "kwegR_OVhYfj",
        "outputId": "e09afa92-2cea-4142-cf44-1a6107d5e05d"
      },
      "source": [
        "df.describe().show()\n",
        "df.describe(['idade']).show()\n",
        "df.describe(['idade', 'salario']).show()"
      ],
      "id": "kwegR_OVhYfj",
      "execution_count": 4,
      "outputs": [
        {
          "output_type": "stream",
          "name": "stdout",
          "text": [
            "+-------+-------+------------------+--------------+-----------------+\n",
            "|summary|   nome|             idade|        cidade|          salario|\n",
            "+-------+-------+------------------+--------------+-----------------+\n",
            "|  count|     10|                 9|             9|                9|\n",
            "|   mean|   NULL| 29.22222222222222|          NULL|5877.777777777777|\n",
            "| stddev|   NULL|3.1534813214040835|          NULL|822.7663364798323|\n",
            "|    min|  Alice|                25|Belo Horizonte|           4800.0|\n",
            "|    max|Juliana|                35|     São Paulo|           7200.0|\n",
            "+-------+-------+------------------+--------------+-----------------+\n",
            "\n",
            "+-------+------------------+\n",
            "|summary|             idade|\n",
            "+-------+------------------+\n",
            "|  count|                 9|\n",
            "|   mean| 29.22222222222222|\n",
            "| stddev|3.1534813214040835|\n",
            "|    min|                25|\n",
            "|    max|                35|\n",
            "+-------+------------------+\n",
            "\n",
            "+-------+------------------+-----------------+\n",
            "|summary|             idade|          salario|\n",
            "+-------+------------------+-----------------+\n",
            "|  count|                 9|                9|\n",
            "|   mean| 29.22222222222222|5877.777777777777|\n",
            "| stddev|3.1534813214040835|822.7663364798323|\n",
            "|    min|                25|           4800.0|\n",
            "|    max|                35|           7200.0|\n",
            "+-------+------------------+-----------------+\n",
            "\n"
          ]
        }
      ]
    },
    {
      "cell_type": "markdown",
      "metadata": {
        "id": "SMgxudj9hYfj"
      },
      "source": [
        "## 3. Estatísticas Avançadas com `summary()`"
      ],
      "id": "SMgxudj9hYfj"
    },
    {
      "cell_type": "code",
      "metadata": {
        "colab": {
          "base_uri": "https://localhost:8080/"
        },
        "id": "WQn6O6iDhYfj",
        "outputId": "93cfb48f-6271-4014-c294-a76631f3c80b"
      },
      "source": [
        "df.summary().show()\n",
        "df.summary('mean').show()\n",
        "df.summary('25%', '50%', '75%', '90%').show()\n",
        "df.summary('count', 'mean', 'stddev').show()"
      ],
      "id": "WQn6O6iDhYfj",
      "execution_count": 5,
      "outputs": [
        {
          "output_type": "stream",
          "name": "stdout",
          "text": [
            "+-------+-------+------------------+--------------+-----------------+\n",
            "|summary|   nome|             idade|        cidade|          salario|\n",
            "+-------+-------+------------------+--------------+-----------------+\n",
            "|  count|     10|                 9|             9|                9|\n",
            "|   mean|   NULL| 29.22222222222222|          NULL|5877.777777777777|\n",
            "| stddev|   NULL|3.1534813214040835|          NULL|822.7663364798323|\n",
            "|    min|  Alice|                25|Belo Horizonte|           4800.0|\n",
            "|    25%|   NULL|                27|          NULL|           5300.0|\n",
            "|    50%|   NULL|                29|          NULL|           5800.0|\n",
            "|    75%|   NULL|                31|          NULL|           6500.0|\n",
            "|    max|Juliana|                35|     São Paulo|           7200.0|\n",
            "+-------+-------+------------------+--------------+-----------------+\n",
            "\n",
            "+-------+----+-----------------+------+-----------------+\n",
            "|summary|nome|            idade|cidade|          salario|\n",
            "+-------+----+-----------------+------+-----------------+\n",
            "|   mean|NULL|29.22222222222222|  NULL|5877.777777777777|\n",
            "+-------+----+-----------------+------+-----------------+\n",
            "\n",
            "+-------+----+-----+------+-------+\n",
            "|summary|nome|idade|cidade|salario|\n",
            "+-------+----+-----+------+-------+\n",
            "|    25%|NULL|   27|  NULL| 5300.0|\n",
            "|    50%|NULL|   29|  NULL| 5800.0|\n",
            "|    75%|NULL|   31|  NULL| 6500.0|\n",
            "|    90%|NULL|   35|  NULL| 7200.0|\n",
            "+-------+----+-----+------+-------+\n",
            "\n",
            "+-------+----+------------------+------+-----------------+\n",
            "|summary|nome|             idade|cidade|          salario|\n",
            "+-------+----+------------------+------+-----------------+\n",
            "|  count|  10|                 9|     9|                9|\n",
            "|   mean|NULL| 29.22222222222222|  NULL|5877.777777777777|\n",
            "| stddev|NULL|3.1534813214040835|  NULL|822.7663364798323|\n",
            "+-------+----+------------------+------+-----------------+\n",
            "\n"
          ]
        }
      ]
    },
    {
      "cell_type": "markdown",
      "metadata": {
        "id": "lMenNxuqhYfj"
      },
      "source": [
        "## 4. Estatísticas Individuais com Funções do PySpark"
      ],
      "id": "lMenNxuqhYfj"
    },
    {
      "cell_type": "code",
      "metadata": {
        "colab": {
          "base_uri": "https://localhost:8080/"
        },
        "id": "UUHtLXWUhYfj",
        "outputId": "d293c62e-19aa-4d9c-e73b-5e4b69672f9a"
      },
      "source": [
        "estatisticas_salario = df.agg(\n",
        "    F.count('salario').alias('total_registros'),\n",
        "    F.countDistinct('salario').alias('valores_unicos'),\n",
        "    F.mean('salario').alias('media'),\n",
        "    F.median('salario').alias('mediana'),\n",
        "    F.stddev('salario').alias('desvio_padrao'),\n",
        "    F.variance('salario').alias('variancia'),\n",
        "    F.min('salario').alias('minimo'),\n",
        "    F.max('salario').alias('maximo'),\n",
        "    F.sum('salario').alias('soma_total')\n",
        ").collect()[0]\n",
        "\n",
        "estatisticas_salario"
      ],
      "id": "UUHtLXWUhYfj",
      "execution_count": 6,
      "outputs": [
        {
          "output_type": "execute_result",
          "data": {
            "text/plain": [
              "Row(total_registros=9, valores_unicos=9, media=5877.777777777777, mediana=5800.0, desvio_padrao=822.7663364798323, variancia=676944.4444444445, minimo=4800.0, maximo=7200.0, soma_total=52900.0)"
            ]
          },
          "metadata": {},
          "execution_count": 6
        }
      ]
    },
    {
      "cell_type": "markdown",
      "metadata": {
        "id": "v1jmCPxhhYfk"
      },
      "source": [
        "## 5. Geração de Números Aleatórios\n",
        "\n",
        "O PySpark oferece a função rand() para gerar números aleatórios uniformemente distribuídos entre 0.0 e 1.0. Essa função é muito útil para simulações, amostragem de dados, criação de datasets sintéticos ou testes.\n",
        "\n",
        "- Adiciona ao DataFrame df uma nova coluna chamada numero_aleatorio contendo números aleatórios entre 0 e 1.\n",
        "- Adiciona uma coluna de números aleatórios com uma seed fixa (seed=42).\n",
        "- Multiplicação e conversão permitem criar números em diferentes intervalos e tipos (float ou inteiro)."
      ],
      "id": "v1jmCPxhhYfk"
    },
    {
      "cell_type": "code",
      "metadata": {
        "colab": {
          "base_uri": "https://localhost:8080/"
        },
        "id": "sPO2T1wshYfk",
        "outputId": "99aa3702-a8f3-4201-bed0-f2f21eb05f0a"
      },
      "source": [
        "df_com_random = df.withColumn('numero_aleatorio', F.rand())\n",
        "df_com_random.select('nome', 'numero_aleatorio').show(5)\n",
        "\n",
        "df_com_seed = df.withColumn('random_reproduzivel', F.rand(seed=42))\n",
        "df_com_seed.select('nome', 'random_reproduzivel').show(5)\n",
        "\n",
        "df_random_completo = df.withColumn('aleatorio_0_1', F.rand(seed=123)) \\\n",
        "                       .withColumn('aleatorio_1_100', F.rand(seed=123) * 100) \\\n",
        "                       .withColumn('aleatorio_inteiro', (F.rand(seed=123) * 100).cast('int'))\n",
        "df_random_completo.select('nome', 'aleatorio_0_1', 'aleatorio_1_100', 'aleatorio_inteiro').show(5)"
      ],
      "id": "sPO2T1wshYfk",
      "execution_count": 7,
      "outputs": [
        {
          "output_type": "stream",
          "name": "stdout",
          "text": [
            "+-------+------------------+\n",
            "|   nome|  numero_aleatorio|\n",
            "+-------+------------------+\n",
            "|  Alice|0.2295271979881215|\n",
            "|  Bruno|0.6721950494773951|\n",
            "| Carlos|0.5139176584798829|\n",
            "|  Diana|0.3014148634612559|\n",
            "|Eduardo| 0.900838478657975|\n",
            "+-------+------------------+\n",
            "only showing top 5 rows\n",
            "\n",
            "+-------+-------------------+\n",
            "|   nome|random_reproduzivel|\n",
            "+-------+-------------------+\n",
            "|  Alice|  0.619189370225301|\n",
            "|  Bruno| 0.5096018842446481|\n",
            "| Carlos| 0.8325259388871524|\n",
            "|  Diana|0.26322809041172357|\n",
            "|Eduardo| 0.6702867696264135|\n",
            "+-------+-------------------+\n",
            "only showing top 5 rows\n",
            "\n",
            "+-------+-------------------+------------------+-----------------+\n",
            "|   nome|      aleatorio_0_1|   aleatorio_1_100|aleatorio_inteiro|\n",
            "+-------+-------------------+------------------+-----------------+\n",
            "|  Alice|0.15795279750951363|15.795279750951362|               15|\n",
            "|  Bruno|  0.648787283930924|  64.8787283930924|               64|\n",
            "| Carlos| 0.9529333503403405| 95.29333503403406|               95|\n",
            "|  Diana| 0.3108354124889471|31.083541248894708|               31|\n",
            "|Eduardo|0.18236488937717799|18.236488937717798|               18|\n",
            "+-------+-------------------+------------------+-----------------+\n",
            "only showing top 5 rows\n",
            "\n"
          ]
        }
      ]
    },
    {
      "cell_type": "markdown",
      "metadata": {
        "id": "TTIzV7VQhYfk"
      },
      "source": [
        "## 6. Amostragem de Dados\n",
        "\n",
        "No PySpark, podemos extrair **amostras de um DataFrame** usando o método `sample()`. Isso é útil para análise exploratória, testes e simulações em datasets grandes, sem precisar processar todos os dados. Vamos analisar os exemplos:\n",
        "\n",
        "* Amostragem **sem reposição**\n",
        "\n",
        "  * `withReplacement=False` → cada registro só pode aparecer **uma vez** na amostra.\n",
        "  * `fraction=0.2` → amostra corresponde a 20% do DataFrame original.\n",
        "  * `seed=42` → garante **reprodutibilidade**, ou seja, sempre gera a mesma amostra.\n",
        "  * **Uso típico:** análise exploratória quando não queremos duplicatas.\n",
        "* Amostragem **com reposição**\n",
        "  * `withReplacement=True` → cada registro pode aparecer **mais de uma vez** na amostra.\n",
        "  * `fraction=0.3` → tamanho esperado da amostra é 30% do DataFrame original.\n",
        "  * `seed=42` → garante que a amostra seja **reproduzível**.\n",
        "  * **Uso típico:** simulações estatísticas, bootstrapping e testes que permitem repetição de registros.\n",
        "* Sempre use `seed` para resultados consistentes.\n",
        "* O `fraction` controla a **proporção da amostra** em relação ao dataset original.\n",
        "\n",
        "\n"
      ],
      "id": "TTIzV7VQhYfk"
    },
    {
      "cell_type": "code",
      "metadata": {
        "colab": {
          "base_uri": "https://localhost:8080/"
        },
        "id": "QTd0uveJhYfk",
        "outputId": "450907ba-6afb-45b6-b607-79d23276adf8"
      },
      "source": [
        "df_grande = spark.range(0, 100).withColumn('valor', F.col('id') * 2)\n",
        "df_grande.show(10)\n",
        "\n",
        "amostra_sem_reposicao = df_grande.sample(withReplacement=False, fraction=0.2, seed=42)\n",
        "amostra_sem_reposicao.show(10)\n",
        "\n",
        "amostra_com_reposicao = df_grande.sample(withReplacement=True, fraction=0.3, seed=42)\n",
        "amostra_com_reposicao.show(10)"
      ],
      "id": "QTd0uveJhYfk",
      "execution_count": 8,
      "outputs": [
        {
          "output_type": "stream",
          "name": "stdout",
          "text": [
            "+---+-----+\n",
            "| id|valor|\n",
            "+---+-----+\n",
            "|  0|    0|\n",
            "|  1|    2|\n",
            "|  2|    4|\n",
            "|  3|    6|\n",
            "|  4|    8|\n",
            "|  5|   10|\n",
            "|  6|   12|\n",
            "|  7|   14|\n",
            "|  8|   16|\n",
            "|  9|   18|\n",
            "+---+-----+\n",
            "only showing top 10 rows\n",
            "\n",
            "+---+-----+\n",
            "| id|valor|\n",
            "+---+-----+\n",
            "|  7|   14|\n",
            "| 16|   32|\n",
            "| 18|   36|\n",
            "| 26|   52|\n",
            "| 36|   72|\n",
            "| 38|   76|\n",
            "| 48|   96|\n",
            "| 59|  118|\n",
            "| 65|  130|\n",
            "| 67|  134|\n",
            "+---+-----+\n",
            "only showing top 10 rows\n",
            "\n",
            "+---+-----+\n",
            "| id|valor|\n",
            "+---+-----+\n",
            "|  5|   10|\n",
            "|  6|   12|\n",
            "| 13|   26|\n",
            "| 16|   32|\n",
            "| 20|   40|\n",
            "| 21|   42|\n",
            "| 21|   42|\n",
            "| 22|   44|\n",
            "| 28|   56|\n",
            "| 29|   58|\n",
            "+---+-----+\n",
            "only showing top 10 rows\n",
            "\n"
          ]
        }
      ]
    },
    {
      "cell_type": "markdown",
      "metadata": {
        "id": "RU1b-kd2hYfk"
      },
      "source": [
        "## 7. Estatísticas por Grupos"
      ],
      "id": "RU1b-kd2hYfk"
    },
    {
      "cell_type": "code",
      "metadata": {
        "colab": {
          "base_uri": "https://localhost:8080/"
        },
        "id": "6V9-F6kthYfk",
        "outputId": "708b9479-2a68-4dc4-f427-661e9a20855e"
      },
      "source": [
        "# Dados expandidos para análise por grupos\n",
        "dados_expandidos = [\n",
        "    (\"Alice\", 25, \"São Paulo\", 5000.0),\n",
        "    (\"Bruno\", 30, \"São Paulo\", 6500.0),\n",
        "    (\"Carlos\", 28, \"Rio de Janeiro\", 4800.0),\n",
        "    (\"Diana\", 35, \"Rio de Janeiro\", 7200.0),\n",
        "    (\"Eduardo\", 32, \"São Paulo\", 5500.0),\n",
        "    (\"Fernanda\", 29, \"Rio de Janeiro\", 6800.0),\n",
        "    (\"Gabriel\", 27, \"São Paulo\", 5300.0),\n",
        "    (\"Helena\", 31, \"Rio de Janeiro\", 6000.0),\n",
        "]\n",
        "\n",
        "# Criando o DataFrame usando o schema completo (StructType)\n",
        "df_grupos = spark.createDataFrame(dados_expandidos, schema)\n",
        "\n",
        "# Estatísticas por cidade\n",
        "estatisticas_por_cidade = df_grupos.groupBy('cidade') \\\n",
        "    .agg(\n",
        "        F.count('nome').alias('total_pessoas'),\n",
        "        F.avg('idade').alias('idade_media'),\n",
        "        F.avg('salario').alias('salario_medio'),\n",
        "        F.min('salario').alias('salario_minimo'),\n",
        "        F.max('salario').alias('salario_maximo'),\n",
        "        F.stddev('salario').alias('desvio_padrao_salario')\n",
        "    )\n",
        "\n",
        "# Exibindo os resultados\n",
        "estatisticas_por_cidade.show(truncate=False)\n"
      ],
      "id": "6V9-F6kthYfk",
      "execution_count": 12,
      "outputs": [
        {
          "output_type": "stream",
          "name": "stdout",
          "text": [
            "+--------------+-------------+-----------+-------------+--------------+--------------+---------------------+\n",
            "|cidade        |total_pessoas|idade_media|salario_medio|salario_minimo|salario_maximo|desvio_padrao_salario|\n",
            "+--------------+-------------+-----------+-------------+--------------+--------------+---------------------+\n",
            "|São Paulo     |4            |28.5       |5575.0       |5000.0        |6500.0        |650.0                |\n",
            "|Rio de Janeiro|4            |30.75      |6200.0       |4800.0        |7200.0        |1058.3005244258363   |\n",
            "+--------------+-------------+-----------+-------------+--------------+--------------+---------------------+\n",
            "\n"
          ]
        }
      ]
    },
    {
      "cell_type": "markdown",
      "metadata": {
        "id": "ESe5RlwPhYfk"
      },
      "source": [
        "## 8. Detecção de Outliers"
      ],
      "id": "ESe5RlwPhYfk"
    },
    {
      "cell_type": "code",
      "metadata": {
        "colab": {
          "base_uri": "https://localhost:8080/"
        },
        "id": "xrXcvOIyhYfk",
        "outputId": "9388d724-b5ee-4aa0-a7b9-ada388666a27"
      },
      "source": [
        "quartis = df.select(\n",
        "    F.expr('percentile_approx(salario, 0.25)').alias('q1'),\n",
        "    F.expr('percentile_approx(salario, 0.75)').alias('q3')\n",
        ").collect()[0]\n",
        "\n",
        "q1 = quartis['q1']\n",
        "q3 = quartis['q3']\n",
        "iqr = q3 - q1\n",
        "limite_inferior = q1 - 1.5 * iqr\n",
        "limite_superior = q3 + 1.5 * iqr\n",
        "\n",
        "outliers = df.filter((F.col('salario') < limite_inferior) | (F.col('salario') > limite_superior))\n",
        "outliers.show()"
      ],
      "id": "xrXcvOIyhYfk",
      "execution_count": 10,
      "outputs": [
        {
          "output_type": "stream",
          "name": "stdout",
          "text": [
            "+----+-----+------+-------+\n",
            "|nome|idade|cidade|salario|\n",
            "+----+-----+------+-------+\n",
            "+----+-----+------+-------+\n",
            "\n"
          ]
        }
      ]
    },
    {
      "cell_type": "markdown",
      "metadata": {
        "id": "EOTR4n6AhYfk"
      },
      "source": [
        "## 9. Correlação Entre Variáveis\n",
        "\n",
        "Correlação é uma medida estatística que indica a **força e a direção** da relação linear entre duas variáveis numéricas. Em PySpark, podemos calcular a correlação usando o método `stat.corr()`.\n",
        "\n",
        "* O valor retornado é um número entre **-1 e 1**:\n",
        "\n",
        "  * `1` → correlação positiva perfeita (quando uma variável aumenta, a outra também aumenta proporcionalmente)\n",
        "  * `-1` → correlação negativa perfeita (quando uma variável aumenta, a outra diminui proporcionalmente)\n",
        "  * `0` → sem correlação linear aparente\n",
        "* **Uso típico:** identificar relações lineares entre variáveis antes de análises exploratórias ou modelagem preditiva.\n",
        "\n",
        "---\n",
        "\n",
        "💡 **Interpretação prática:**\n",
        "\n",
        "| Valor da correlação | Interpretação                   |\n",
        "| ------------------- | ------------------------------- |\n",
        "| 0.7 a 1.0           | Forte correlação positiva       |\n",
        "| 0.3 a 0.7           | Correlação positiva moderada    |\n",
        "| -0.3 a 0.3          | Correlação fraca ou inexistente |\n",
        "| -0.7 a -0.3         | Correlação negativa moderada    |\n",
        "| -1.0 a -0.7         | Forte correlação negativa       |\n",
        "\n",
        "* **correlação não implica causalidade**. Valores altos indicam associação, mas não garantem relação de causa e efeito."
      ],
      "id": "EOTR4n6AhYfk"
    },
    {
      "cell_type": "code",
      "metadata": {
        "colab": {
          "base_uri": "https://localhost:8080/"
        },
        "id": "ts7tI9gthYfk",
        "outputId": "63bb9101-fea9-4e8a-b514-b6c75d6fa0c3"
      },
      "source": [
        "correlacao = df.stat.corr('idade', 'salario')\n",
        "correlacao"
      ],
      "id": "ts7tI9gthYfk",
      "execution_count": 13,
      "outputs": [
        {
          "output_type": "execute_result",
          "data": {
            "text/plain": [
              "0.06722971098151054"
            ]
          },
          "metadata": {},
          "execution_count": 13
        }
      ]
    },
    {
      "cell_type": "markdown",
      "metadata": {
        "id": "j_XZjWEkhYfl"
      },
      "source": [
        "## 10. Finalizando Sessão Spark"
      ],
      "id": "j_XZjWEkhYfl"
    },
    {
      "cell_type": "code",
      "metadata": {
        "id": "lqnbYT38hYfl"
      },
      "source": [
        "# spark.stop()  # Descomente para finalizar a sessão"
      ],
      "id": "lqnbYT38hYfl",
      "execution_count": null,
      "outputs": []
    }
  ],
  "metadata": {
    "kernelspec": {
      "display_name": "Python 3 (PySpark)",
      "language": "python",
      "name": "python3"
    },
    "language_info": {
      "name": "python",
      "version": "3.11"
    },
    "colab": {
      "provenance": []
    }
  },
  "nbformat": 4,
  "nbformat_minor": 5
}