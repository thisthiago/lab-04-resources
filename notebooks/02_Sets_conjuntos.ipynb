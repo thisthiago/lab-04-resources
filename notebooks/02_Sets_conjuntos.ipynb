{
  "cells": [
    {
      "cell_type": "markdown",
      "id": "intro-sets",
      "metadata": {
        "id": "intro-sets"
      },
      "source": [
        "# Operações com Conjuntos (Sets) no PySpark\n",
        "\n",
        "## Introdução\n",
        "\n",
        "No PySpark, assim como em SQL, podemos realizar operações matemáticas de conjuntos entre DataFrames.\n",
        "Essas operações são muito úteis para combinar, comparar e filtrar dados de diferentes fontes.\n",
        "\n",
        "### Operações principais:\n",
        "- **Union**: Combina linhas de dois DataFrames\n",
        "- **Intersect**: Retorna apenas as linhas que existem em ambos os DataFrames\n",
        "- **Subtract (Except)**: Retorna linhas que existem no primeiro DataFrame mas não no segundo\n",
        "\n",
        "Vamos explorar cada uma dessas operações com exemplos práticos!"
      ]
    },
    {
      "cell_type": "code",
      "source": [
        "# Instalar o OpenJDK 8\n",
        "!apt-get install openjdk-8-jdk-headless -qq > /dev/null\n",
        "\n",
        "# Baixar o Apache Spark (versão 3.5.0 com Hadoop 3)\n",
        "!wget -q https://archive.apache.org/dist/spark/spark-3.5.0/spark-3.5.0-bin-hadoop3.tgz\n",
        "\n",
        "# Extrair o arquivo baixado\n",
        "!tar xf spark-3.5.0-bin-hadoop3.tgz\n",
        "\n",
        "# Instalar a biblioteca findspark\n",
        "!pip install -q findspark"
      ],
      "metadata": {
        "id": "kAWFJKlWfCkN"
      },
      "id": "kAWFJKlWfCkN",
      "execution_count": 1,
      "outputs": []
    },
    {
      "cell_type": "code",
      "source": [
        "import os\n",
        "\n",
        "os.environ[\"JAVA_HOME\"] = \"/usr/lib/jvm/java-8-openjdk-amd64\"\n",
        "os.environ[\"SPARK_HOME\"] = \"/content/spark-3.5.0-bin-hadoop3\""
      ],
      "metadata": {
        "id": "aVUPc8vSfFeQ"
      },
      "id": "aVUPc8vSfFeQ",
      "execution_count": 2,
      "outputs": []
    },
    {
      "cell_type": "code",
      "source": [
        "import findspark\n",
        "findspark.init()"
      ],
      "metadata": {
        "id": "5lQnQzT5fGZg"
      },
      "id": "5lQnQzT5fGZg",
      "execution_count": 3,
      "outputs": []
    },
    {
      "cell_type": "code",
      "execution_count": 4,
      "id": "setup",
      "metadata": {
        "colab": {
          "base_uri": "https://localhost:8080/"
        },
        "id": "setup",
        "outputId": "1941bb5f-68fa-4ab5-af35-c470b5c9d380"
      },
      "outputs": [
        {
          "output_type": "stream",
          "name": "stdout",
          "text": [
            "Spark configurado com sucesso!\n"
          ]
        }
      ],
      "source": [
        "# Configuração inicial do PySpark\n",
        "from pyspark.sql import SparkSession\n",
        "from pyspark.sql.types import *\n",
        "from pyspark.sql import functions as F\n",
        "\n",
        "# Criando sessão do Spark\n",
        "spark = SparkSession.builder \\\n",
        "    .appName('Operacoes_Conjuntos_PySpark') \\\n",
        "    .getOrCreate()\n",
        "\n",
        "print(\"Spark configurado com sucesso!\")"
      ]
    },
    {
      "cell_type": "markdown",
      "id": "dados-exemplo",
      "metadata": {
        "id": "dados-exemplo"
      },
      "source": [
        "## Preparando os Dados de Exemplo\n",
        "\n",
        "Vamos criar alguns DataFrames com dados de funcionários para demonstrar as operações:"
      ]
    },
    {
      "cell_type": "code",
      "execution_count": 5,
      "id": "dados-funcionarios",
      "metadata": {
        "colab": {
          "base_uri": "https://localhost:8080/"
        },
        "id": "dados-funcionarios",
        "outputId": "058603ac-25d1-4e3f-944d-109e7d219f98"
      },
      "outputs": [
        {
          "output_type": "stream",
          "name": "stdout",
          "text": [
            "📊 DataFrame - Funcionários da Matriz:\n",
            "+---+-----------+------------+------+\n",
            "| id|       nome|departamento|origem|\n",
            "+---+-----------+------------+------+\n",
            "|  1|  Ana Silva|          TI|Matriz|\n",
            "|  2|João Santos|          RH|Matriz|\n",
            "|  3|Maria Costa|  Financeiro|Matriz|\n",
            "|  4| Pedro Lima|          TI|Matriz|\n",
            "+---+-----------+------------+------+\n",
            "\n",
            "Total de registros: 4\n"
          ]
        }
      ],
      "source": [
        "# Esquema comum para nossos dados\n",
        "esquema_funcionarios = StructType([\n",
        "    StructField(\"id\", IntegerType(), True),\n",
        "    StructField(\"nome\", StringType(), True),\n",
        "    StructField(\"departamento\", StringType(), True)\n",
        "])\n",
        "\n",
        "# DataFrame 1: Funcionários da matriz\n",
        "dados_matriz = [\n",
        "    (1, \"Ana Silva\", \"TI\"),\n",
        "    (2, \"João Santos\", \"RH\"),\n",
        "    (3, \"Maria Costa\", \"Financeiro\"),\n",
        "    (4, \"Pedro Lima\", \"TI\")\n",
        "]\n",
        "df_matriz = spark.createDataFrame(dados_matriz, esquema_funcionarios)\n",
        "df_matriz = df_matriz.withColumn(\"origem\", F.lit(\"Matriz\"))\n",
        "\n",
        "print(\"DataFrame - Funcionários da Matriz:\")\n",
        "df_matriz.show()\n",
        "print(f\"Total de registros: {df_matriz.count()}\")"
      ]
    },
    {
      "cell_type": "code",
      "execution_count": 6,
      "id": "dados-filial",
      "metadata": {
        "colab": {
          "base_uri": "https://localhost:8080/"
        },
        "id": "dados-filial",
        "outputId": "0c3e2191-2d95-4b4c-f3bd-a41c64ebf9c6"
      },
      "outputs": [
        {
          "output_type": "stream",
          "name": "stdout",
          "text": [
            "DataFrame - Funcionários da Filial:\n",
            "+---+---------------+------------+------+\n",
            "| id|           nome|departamento|origem|\n",
            "+---+---------------+------------+------+\n",
            "|  3|    Maria Costa|  Financeiro|Filial|\n",
            "|  5|Carlos Oliveira|      Vendas|Filial|\n",
            "|  6| Lucia Ferreira|   Marketing|Filial|\n",
            "|  7|  Roberto Alves|          TI|Filial|\n",
            "+---+---------------+------------+------+\n",
            "\n",
            "Total de registros: 4\n"
          ]
        }
      ],
      "source": [
        "# DataFrame 2: Funcionários da filial\n",
        "dados_filial = [\n",
        "    (3, \"Maria Costa\", \"Financeiro\"),  # Mesmo funcionário da matriz\n",
        "    (5, \"Carlos Oliveira\", \"Vendas\"),\n",
        "    (6, \"Lucia Ferreira\", \"Marketing\"),\n",
        "    (7, \"Roberto Alves\", \"TI\")\n",
        "]\n",
        "df_filial = spark.createDataFrame(dados_filial, esquema_funcionarios)\n",
        "df_filial = df_filial.withColumn(\"origem\", F.lit(\"Filial\"))\n",
        "\n",
        "print(\"DataFrame - Funcionários da Filial:\")\n",
        "df_filial.show()\n",
        "print(f\"Total de registros: {df_filial.count()}\")"
      ]
    },
    {
      "cell_type": "code",
      "execution_count": 7,
      "id": "dados-terceirizada",
      "metadata": {
        "colab": {
          "base_uri": "https://localhost:8080/"
        },
        "id": "dados-terceirizada",
        "outputId": "7f779c5c-417d-4b87-b8af-2453a507efde"
      },
      "outputs": [
        {
          "output_type": "stream",
          "name": "stdout",
          "text": [
            "DataFrame - Funcionários Terceirizados:\n",
            "+---+--------------+------------+-------------+\n",
            "| id|          nome|departamento|       origem|\n",
            "+---+--------------+------------+-------------+\n",
            "|  1|     Ana Silva|          TI|Terceirizados|\n",
            "|  8|Fernando Rocha|     Limpeza|Terceirizados|\n",
            "|  9|  Sandra Nunes|   Segurança|Terceirizados|\n",
            "+---+--------------+------------+-------------+\n",
            "\n",
            "Total de registros: 3\n"
          ]
        }
      ],
      "source": [
        "# DataFrame 3: Funcionários terceirizados\n",
        "dados_terceirizados = [\n",
        "    (1, \"Ana Silva\", \"TI\"),        # Mesmo funcionário da matriz\n",
        "    (8, \"Fernando Rocha\", \"Limpeza\"),\n",
        "    (9, \"Sandra Nunes\", \"Segurança\")\n",
        "]\n",
        "df_terceirizados = spark.createDataFrame(dados_terceirizados, esquema_funcionarios)\n",
        "df_terceirizados = df_terceirizados.withColumn(\"origem\", F.lit(\"Terceirizados\"))\n",
        "\n",
        "print(\"DataFrame - Funcionários Terceirizados:\")\n",
        "df_terceirizados.show()\n",
        "print(f\"Total de registros: {df_terceirizados.count()}\")"
      ]
    },
    {
      "cell_type": "markdown",
      "id": "union-explicacao",
      "metadata": {
        "id": "union-explicacao"
      },
      "source": [
        "## 1. UNION - Combinando DataFrames\n",
        "\n",
        "A operação **UNION** combina as linhas de dois ou mais DataFrames, criando um resultado que contém todos os registros.\n",
        "\n",
        "### Características importantes:\n",
        "- Remove duplicatas automaticamente (como UNION DISTINCT no SQL)\n",
        "- Os DataFrames devem ter o mesmo número de colunas\n",
        "- As colunas são combinadas por **posição**, não por nome\n",
        "- Use `unionByName()` para combinar por nome das colunas"
      ]
    },
    {
      "cell_type": "code",
      "execution_count": 8,
      "id": "union-exemplo",
      "metadata": {
        "colab": {
          "base_uri": "https://localhost:8080/"
        },
        "id": "union-exemplo",
        "outputId": "c489ca66-3768-40e1-9eec-f449f9cd4b11"
      },
      "outputs": [
        {
          "output_type": "stream",
          "name": "stdout",
          "text": [
            "🔄 UNION - Combinando funcionários da Matriz e Filial\n",
            "============================================================\n",
            "Resultado da Union:\n",
            "+---+---------------+------------+\n",
            "| id|           nome|departamento|\n",
            "+---+---------------+------------+\n",
            "|  1|      Ana Silva|          TI|\n",
            "|  2|    João Santos|          RH|\n",
            "|  3|    Maria Costa|  Financeiro|\n",
            "|  4|     Pedro Lima|          TI|\n",
            "|  3|    Maria Costa|  Financeiro|\n",
            "|  5|Carlos Oliveira|      Vendas|\n",
            "|  6| Lucia Ferreira|   Marketing|\n",
            "|  7|  Roberto Alves|          TI|\n",
            "+---+---------------+------------+\n",
            "\n",
            "Total de registros após union: 8\n",
            "\n",
            "💡 Note que duplicatas são removidas automaticamente!\n",
            "   Maria Costa aparece apenas uma vez, mesmo estando nos dois DataFrames.\n"
          ]
        }
      ],
      "source": [
        "# Exemplo 1: Union básico - combinando matriz e filial\n",
        "print(\"🔄 UNION - Combinando funcionários da Matriz e Filial\")\n",
        "print(\"=\"*60)\n",
        "\n",
        "# Removendo coluna 'origem' para focar na operação union\n",
        "df_matriz_simples = df_matriz.drop(\"origem\")\n",
        "df_filial_simples = df_filial.drop(\"origem\")\n",
        "\n",
        "# Realizando a union\n",
        "df_union_basico = df_matriz_simples.union(df_filial_simples)\n",
        "\n",
        "print(\"Resultado da Union:\")\n",
        "df_union_basico.show()\n",
        "print(f\"Total de registros após union: {df_union_basico.count()}\")\n",
        "print(\"\\n💡 Note que duplicatas são removidas automaticamente!\")\n",
        "print(\"   Maria Costa aparece apenas uma vez, mesmo estando nos dois DataFrames.\")"
      ]
    },
    {
      "cell_type": "code",
      "execution_count": 9,
      "id": "unionbyname-exemplo",
      "metadata": {
        "colab": {
          "base_uri": "https://localhost:8080/"
        },
        "id": "unionbyname-exemplo",
        "outputId": "5c3cbf71-ec8b-4b31-9e65-d4494cc0e9b9"
      },
      "outputs": [
        {
          "output_type": "stream",
          "name": "stdout",
          "text": [
            "🏷️  UNION BY NAME - Combinando por nome das colunas\n",
            "============================================================\n",
            "DataFrame com colunas em ordem diferente:\n",
            "+------------+------------+---+\n",
            "|        nome|departamento| id|\n",
            "+------------+------------+---+\n",
            "|Paula Mendes|   Marketing| 10|\n",
            "|  José Silva|      Vendas| 11|\n",
            "+------------+------------+---+\n",
            "\n",
            "Resultado da UnionByName:\n",
            "+---+------------+------------+\n",
            "| id|        nome|departamento|\n",
            "+---+------------+------------+\n",
            "|  1|   Ana Silva|          TI|\n",
            "|  2| João Santos|          RH|\n",
            "|  3| Maria Costa|  Financeiro|\n",
            "|  4|  Pedro Lima|          TI|\n",
            "| 10|Paula Mendes|   Marketing|\n",
            "| 11|  José Silva|      Vendas|\n",
            "+---+------------+------------+\n",
            "\n",
            "\n",
            "💡 As colunas foram alinhadas corretamente pelo nome, não pela posição!\n"
          ]
        }
      ],
      "source": [
        "# Exemplo 2: UnionByName - combinando por nome das colunas\n",
        "print(\"🏷️  UNION BY NAME - Combinando por nome das colunas\")\n",
        "print(\"=\"*60)\n",
        "\n",
        "# Criando DataFrame com colunas em ordem diferente\n",
        "esquema_diferente = StructType([\n",
        "    StructField(\"nome\", StringType(), True),\n",
        "    StructField(\"departamento\", StringType(), True),\n",
        "    StructField(\"id\", IntegerType(), True)  # ID por último\n",
        "])\n",
        "\n",
        "dados_ordem_diferente = [\n",
        "    (\"Paula Mendes\", \"Marketing\", 10),\n",
        "    (\"José Silva\", \"Vendas\", 11)\n",
        "]\n",
        "df_ordem_diferente = spark.createDataFrame(dados_ordem_diferente, esquema_diferente)\n",
        "\n",
        "print(\"DataFrame com colunas em ordem diferente:\")\n",
        "df_ordem_diferente.show()\n",
        "\n",
        "# Union por nome (não por posição)\n",
        "df_union_by_name = df_matriz_simples.unionByName(df_ordem_diferente)\n",
        "\n",
        "print(\"Resultado da UnionByName:\")\n",
        "df_union_by_name.show()\n",
        "print(\"\\n💡 As colunas foram alinhadas corretamente pelo nome, não pela posição!\")"
      ]
    },
    {
      "cell_type": "code",
      "execution_count": 10,
      "id": "unionbyname-missing",
      "metadata": {
        "colab": {
          "base_uri": "https://localhost:8080/"
        },
        "id": "unionbyname-missing",
        "outputId": "6a41f62d-d301-4b0d-baf7-c8c5c97fd934"
      },
      "outputs": [
        {
          "output_type": "stream",
          "name": "stdout",
          "text": [
            "📋 UNION BY NAME - Permitindo colunas faltantes\n",
            "============================================================\n",
            "DataFrame com coluna adicional (salário):\n",
            "+---+--------------+------------+-------+\n",
            "| id|          nome|departamento|salario|\n",
            "+---+--------------+------------+-------+\n",
            "| 12|Ricardo Santos|          TI| 5500.0|\n",
            "| 13|   Marina Lima|          RH| 4800.0|\n",
            "+---+--------------+------------+-------+\n",
            "\n",
            "Resultado com allowMissingColumns=True:\n",
            "+---+--------------+------------+-------+\n",
            "| id|          nome|departamento|salario|\n",
            "+---+--------------+------------+-------+\n",
            "|  1|     Ana Silva|          TI|   NULL|\n",
            "|  2|   João Santos|          RH|   NULL|\n",
            "|  3|   Maria Costa|  Financeiro|   NULL|\n",
            "|  4|    Pedro Lima|          TI|   NULL|\n",
            "| 12|Ricardo Santos|          TI| 5500.0|\n",
            "| 13|   Marina Lima|          RH| 4800.0|\n",
            "+---+--------------+------------+-------+\n",
            "\n",
            "\n",
            "💡 Colunas faltantes são preenchidas com null!\n"
          ]
        }
      ],
      "source": [
        "# Exemplo 3: UnionByName com colunas faltantes\n",
        "print(\"📋 UNION BY NAME - Permitindo colunas faltantes\")\n",
        "print(\"=\"*60)\n",
        "\n",
        "# DataFrame com coluna adicional\n",
        "esquema_com_salario = StructType([\n",
        "    StructField(\"id\", IntegerType(), True),\n",
        "    StructField(\"nome\", StringType(), True),\n",
        "    StructField(\"departamento\", StringType(), True),\n",
        "    StructField(\"salario\", DoubleType(), True)\n",
        "])\n",
        "\n",
        "dados_com_salario = [\n",
        "    (12, \"Ricardo Santos\", \"TI\", 5500.0),\n",
        "    (13, \"Marina Lima\", \"RH\", 4800.0)\n",
        "]\n",
        "df_com_salario = spark.createDataFrame(dados_com_salario, esquema_com_salario)\n",
        "\n",
        "print(\"DataFrame com coluna adicional (salário):\")\n",
        "df_com_salario.show()\n",
        "\n",
        "# Union permitindo colunas faltantes\n",
        "df_union_missing = df_matriz_simples.unionByName(df_com_salario, allowMissingColumns=True)\n",
        "\n",
        "print(\"Resultado com allowMissingColumns=True:\")\n",
        "df_union_missing.show()\n",
        "print(\"\\n💡 Colunas faltantes são preenchidas com null!\")"
      ]
    },
    {
      "cell_type": "markdown",
      "id": "intersect-explicacao",
      "metadata": {
        "id": "intersect-explicacao"
      },
      "source": [
        "## 2. INTERSECT - Encontrando Registros Comuns\n",
        "\n",
        "A operação **INTERSECT** retorna apenas as linhas que existem em **ambos** os DataFrames.\n",
        "\n",
        "### Características importantes:\n",
        "- Retorna apenas registros idênticos que aparecem nos dois DataFrames\n",
        "- Remove duplicatas (equivale ao INTERSECT DISTINCT do SQL)\n",
        "- Útil para encontrar dados comuns entre datasets"
      ]
    },
    {
      "cell_type": "code",
      "execution_count": 11,
      "id": "intersect-exemplo",
      "metadata": {
        "colab": {
          "base_uri": "https://localhost:8080/"
        },
        "id": "intersect-exemplo",
        "outputId": "3ac55ea6-b909-44ab-8d8d-21b4274a5d22"
      },
      "outputs": [
        {
          "output_type": "stream",
          "name": "stdout",
          "text": [
            "🔍 INTERSECT - Encontrando funcionários que trabalham em ambos os locais\n",
            "======================================================================\n",
            "Funcionários presentes tanto na Matriz quanto na Filial:\n",
            "+---+-----------+------------+\n",
            "| id|       nome|departamento|\n",
            "+---+-----------+------------+\n",
            "|  3|Maria Costa|  Financeiro|\n",
            "+---+-----------+------------+\n",
            "\n",
            "Funcionários em comum: 1\n",
            "\n",
            "👥 Funcionário(s) em comum: Maria Costa\n"
          ]
        }
      ],
      "source": [
        "print(\"🔍 INTERSECT - Encontrando funcionários que trabalham em ambos os locais\")\n",
        "print(\"=\"*70)\n",
        "\n",
        "# Intersect entre matriz e filial\n",
        "df_intersect = df_matriz_simples.intersect(df_filial_simples)\n",
        "\n",
        "print(\"Funcionários presentes tanto na Matriz quanto na Filial:\")\n",
        "df_intersect.show()\n",
        "print(f\"Funcionários em comum: {df_intersect.count()}\")\n",
        "\n",
        "# Vamos ver quem são esses funcionários\n",
        "if df_intersect.count() > 0:\n",
        "    nomes_comuns = [row.nome for row in df_intersect.collect()]\n",
        "    print(f\"\\n👥 Funcionário(s) em comum: {', '.join(nomes_comuns)}\")\n",
        "else:\n",
        "    print(\"\\n❌ Não há funcionários em comum entre Matriz e Filial\")"
      ]
    },
    {
      "cell_type": "code",
      "execution_count": 12,
      "id": "intersect-exemplo2",
      "metadata": {
        "colab": {
          "base_uri": "https://localhost:8080/"
        },
        "id": "intersect-exemplo2",
        "outputId": "7b11595c-6d0c-456a-f638-5fd6ca88db17"
      },
      "outputs": [
        {
          "output_type": "stream",
          "name": "stdout",
          "text": [
            "🔍 INTERSECT vs INTERSECT ALL - Tratamento de duplicatas\n",
            "============================================================\n",
            "DataFrame 1 (com duplicatas):\n",
            "+---+-----------+------------+\n",
            "| id|       nome|departamento|\n",
            "+---+-----------+------------+\n",
            "|  1|  Ana Silva|          TI|\n",
            "|  1|  Ana Silva|          TI|\n",
            "|  2|João Santos|          RH|\n",
            "+---+-----------+------------+\n",
            "\n",
            "DataFrame 2:\n",
            "+---+-----------+------------+\n",
            "| id|       nome|departamento|\n",
            "+---+-----------+------------+\n",
            "|  1|  Ana Silva|          TI|\n",
            "|  3|Maria Costa|  Financeiro|\n",
            "+---+-----------+------------+\n",
            "\n",
            "INTERSECT (remove duplicatas):\n",
            "+---+---------+------------+\n",
            "| id|     nome|departamento|\n",
            "+---+---------+------------+\n",
            "|  1|Ana Silva|          TI|\n",
            "+---+---------+------------+\n",
            "\n",
            "INTERSECT ALL (preserva duplicatas):\n",
            "+---+---------+------------+\n",
            "| id|     nome|departamento|\n",
            "+---+---------+------------+\n",
            "|  1|Ana Silva|          TI|\n",
            "+---+---------+------------+\n",
            "\n"
          ]
        }
      ],
      "source": [
        "# Exemplo com dados que tenham duplicatas para mostrar a diferença\n",
        "print(\"🔍 INTERSECT vs INTERSECT ALL - Tratamento de duplicatas\")\n",
        "print(\"=\"*60)\n",
        "\n",
        "# Criando DataFrames com duplicatas\n",
        "dados_com_duplicatas_1 = [\n",
        "    (1, \"Ana Silva\", \"TI\"),\n",
        "    (1, \"Ana Silva\", \"TI\"),  # Duplicata\n",
        "    (2, \"João Santos\", \"RH\")\n",
        "]\n",
        "\n",
        "dados_com_duplicatas_2 = [\n",
        "    (1, \"Ana Silva\", \"TI\"),\n",
        "    (3, \"Maria Costa\", \"Financeiro\")\n",
        "]\n",
        "\n",
        "df_dup_1 = spark.createDataFrame(dados_com_duplicatas_1, esquema_funcionarios)\n",
        "df_dup_2 = spark.createDataFrame(dados_com_duplicatas_2, esquema_funcionarios)\n",
        "\n",
        "print(\"DataFrame 1 (com duplicatas):\")\n",
        "df_dup_1.show()\n",
        "\n",
        "print(\"DataFrame 2:\")\n",
        "df_dup_2.show()\n",
        "\n",
        "# INTERSECT (remove duplicatas)\n",
        "df_intersect_distinct = df_dup_1.intersect(df_dup_2)\n",
        "print(\"INTERSECT (remove duplicatas):\")\n",
        "df_intersect_distinct.show()\n",
        "\n",
        "# INTERSECT ALL (preserva duplicatas)\n",
        "df_intersect_all = df_dup_1.intersectAll(df_dup_2)\n",
        "print(\"INTERSECT ALL (preserva duplicatas):\")\n",
        "df_intersect_all.show()"
      ]
    },
    {
      "cell_type": "markdown",
      "id": "subtract-explicacao",
      "metadata": {
        "id": "subtract-explicacao"
      },
      "source": [
        "## 3. SUBTRACT (EXCEPT) - Encontrando Diferenças\n",
        "\n",
        "A operação **SUBTRACT** retorna as linhas que existem no primeiro DataFrame mas **não existem** no segundo.\n",
        "\n",
        "### Características importantes:\n",
        "- Equivale ao EXCEPT DISTINCT do SQL\n",
        "- Remove duplicatas do resultado\n",
        "- Útil para encontrar registros únicos ou diferenças entre datasets"
      ]
    },
    {
      "cell_type": "code",
      "execution_count": 13,
      "id": "subtract-exemplo",
      "metadata": {
        "colab": {
          "base_uri": "https://localhost:8080/"
        },
        "id": "subtract-exemplo",
        "outputId": "f319bde2-a57f-43c0-c80e-e2724321f672"
      },
      "outputs": [
        {
          "output_type": "stream",
          "name": "stdout",
          "text": [
            "➖ SUBTRACT - Funcionários exclusivos de cada local\n",
            "============================================================\n",
            "Funcionários que trabalham APENAS na Matriz:\n",
            "+---+-----------+------------+\n",
            "| id|       nome|departamento|\n",
            "+---+-----------+------------+\n",
            "|  4| Pedro Lima|          TI|\n",
            "|  1|  Ana Silva|          TI|\n",
            "|  2|João Santos|          RH|\n",
            "+---+-----------+------------+\n",
            "\n",
            "Total: 3 funcionários\n",
            "\n",
            "Funcionários que trabalham APENAS na Filial:\n",
            "+---+---------------+------------+\n",
            "| id|           nome|departamento|\n",
            "+---+---------------+------------+\n",
            "|  5|Carlos Oliveira|      Vendas|\n",
            "|  6| Lucia Ferreira|   Marketing|\n",
            "|  7|  Roberto Alves|          TI|\n",
            "+---+---------------+------------+\n",
            "\n",
            "Total: 3 funcionários\n"
          ]
        }
      ],
      "source": [
        "print(\"➖ SUBTRACT - Funcionários exclusivos de cada local\")\n",
        "print(\"=\"*60)\n",
        "\n",
        "# Funcionários que estão apenas na Matriz\n",
        "df_apenas_matriz = df_matriz_simples.subtract(df_filial_simples)\n",
        "\n",
        "print(\"Funcionários que trabalham APENAS na Matriz:\")\n",
        "df_apenas_matriz.show()\n",
        "print(f\"Total: {df_apenas_matriz.count()} funcionários\")\n",
        "\n",
        "# Funcionários que estão apenas na Filial\n",
        "df_apenas_filial = df_filial_simples.subtract(df_matriz_simples)\n",
        "\n",
        "print(\"\\nFuncionários que trabalham APENAS na Filial:\")\n",
        "df_apenas_filial.show()\n",
        "print(f\"Total: {df_apenas_filial.count()} funcionários\")"
      ]
    },
    {
      "cell_type": "markdown",
      "id": "caso-pratico",
      "metadata": {
        "id": "caso-pratico"
      },
      "source": [
        "## 📋 Caso Prático: Análise Completa de Funcionários\n",
        "\n",
        "Vamos combinar todas as operações para fazer uma análise completa dos funcionários da empresa:"
      ]
    },
    {
      "cell_type": "code",
      "execution_count": 14,
      "id": "analise-completa",
      "metadata": {
        "colab": {
          "base_uri": "https://localhost:8080/"
        },
        "id": "analise-completa",
        "outputId": "5d9d6a44-fc3e-45fd-897f-72259423d499"
      },
      "outputs": [
        {
          "output_type": "stream",
          "name": "stdout",
          "text": [
            "📊 ANÁLISE COMPLETA DOS FUNCIONÁRIOS DA EMPRESA\n",
            "============================================================\n",
            "1️⃣ Total de funcionários únicos na empresa: 11\n",
            "\n",
            "Todos os funcionários:\n",
            "+---+---------------+------------+\n",
            "| id|           nome|departamento|\n",
            "+---+---------------+------------+\n",
            "|  1|      Ana Silva|          TI|\n",
            "|  1|      Ana Silva|          TI|\n",
            "|  2|    João Santos|          RH|\n",
            "|  3|    Maria Costa|  Financeiro|\n",
            "|  3|    Maria Costa|  Financeiro|\n",
            "|  4|     Pedro Lima|          TI|\n",
            "|  5|Carlos Oliveira|      Vendas|\n",
            "|  6| Lucia Ferreira|   Marketing|\n",
            "|  7|  Roberto Alves|          TI|\n",
            "|  8| Fernando Rocha|     Limpeza|\n",
            "|  9|   Sandra Nunes|   Segurança|\n",
            "+---+---------------+------------+\n",
            "\n",
            "\n",
            "2️⃣ Funcionários que trabalham em múltiplos locais:\n",
            "   📍 Matriz e Filial:\n",
            "+---+-----------+------------+\n",
            "| id|       nome|departamento|\n",
            "+---+-----------+------------+\n",
            "|  3|Maria Costa|  Financeiro|\n",
            "+---+-----------+------------+\n",
            "\n",
            "   📍 Matriz e Terceirizados:\n",
            "+---+---------+------------+\n",
            "| id|     nome|departamento|\n",
            "+---+---------+------------+\n",
            "|  1|Ana Silva|          TI|\n",
            "+---+---------+------------+\n",
            "\n",
            "\n",
            "3️⃣ Distribuição exclusiva por local:\n",
            "   🏢 Apenas Matriz: 2 funcionários\n",
            "   🏪 Apenas Filial: 3 funcionários\n",
            "   👥 Apenas Terceirizados: 2 funcionários\n",
            "\n",
            "4️⃣ Resumo por departamento:\n",
            "+------------+-----+\n",
            "|departamento|count|\n",
            "+------------+-----+\n",
            "|          TI|    4|\n",
            "|  Financeiro|    2|\n",
            "|          RH|    1|\n",
            "|      Vendas|    1|\n",
            "|   Marketing|    1|\n",
            "|     Limpeza|    1|\n",
            "|   Segurança|    1|\n",
            "+------------+-----+\n",
            "\n"
          ]
        }
      ],
      "source": [
        "print(\"📊 ANÁLISE COMPLETA DOS FUNCIONÁRIOS DA EMPRESA\")\n",
        "print(\"=\"*60)\n",
        "\n",
        "# 1. Total de funcionários únicos na empresa\n",
        "df_todos_funcionarios = df_matriz_simples.union(df_filial_simples).union(df_terceirizados.drop(\"origem\"))\n",
        "total_funcionarios = df_todos_funcionarios.count()\n",
        "\n",
        "print(f\"1️⃣ Total de funcionários únicos na empresa: {total_funcionarios}\")\n",
        "print(\"\\nTodos os funcionários:\")\n",
        "df_todos_funcionarios.orderBy(\"id\").show()\n",
        "\n",
        "# 2. Funcionários que trabalham em múltiplos locais\n",
        "df_matriz_filial = df_matriz_simples.intersect(df_filial_simples)\n",
        "df_matriz_terceirizada = df_matriz_simples.intersect(df_terceirizados.drop(\"origem\"))\n",
        "\n",
        "print(f\"\\n2️⃣ Funcionários que trabalham em múltiplos locais:\")\n",
        "if df_matriz_filial.count() > 0:\n",
        "    print(\"   📍 Matriz e Filial:\")\n",
        "    df_matriz_filial.show()\n",
        "\n",
        "if df_matriz_terceirizada.count() > 0:\n",
        "    print(\"   📍 Matriz e Terceirizados:\")\n",
        "    df_matriz_terceirizada.show()\n",
        "\n",
        "# 3. Funcionários exclusivos de cada local\n",
        "print(\"\\n3️⃣ Distribuição exclusiva por local:\")\n",
        "\n",
        "# Apenas matriz\n",
        "apenas_matriz = df_matriz_simples.subtract(df_filial_simples).subtract(df_terceirizados.drop(\"origem\"))\n",
        "print(f\"   🏢 Apenas Matriz: {apenas_matriz.count()} funcionários\")\n",
        "\n",
        "# Apenas filial\n",
        "apenas_filial = df_filial_simples.subtract(df_matriz_simples).subtract(df_terceirizados.drop(\"origem\"))\n",
        "print(f\"   🏪 Apenas Filial: {apenas_filial.count()} funcionários\")\n",
        "\n",
        "# Apenas terceirizados\n",
        "apenas_terceirizados = df_terceirizados.drop(\"origem\").subtract(df_matriz_simples).subtract(df_filial_simples)\n",
        "print(f\"   👥 Apenas Terceirizados: {apenas_terceirizados.count()} funcionários\")\n",
        "\n",
        "# 4. Resumo por departamento\n",
        "print(\"\\n4️⃣ Resumo por departamento:\")\n",
        "df_todos_funcionarios.groupBy(\"departamento\").count().orderBy(F.desc(\"count\")).show()"
      ]
    },
    {
      "cell_type": "markdown",
      "id": "dicas-importantes",
      "metadata": {
        "id": "dicas-importantes"
      },
      "source": [
        "## 💡 Dicas Importantes e Boas Práticas\n",
        "\n",
        "### 1. Performance\n",
        "- Operações de conjunto podem ser custosas em datasets grandes\n",
        "- Use `broadcast` para DataFrames pequenos\n",
        "- Considere particionar os dados adequadamente\n",
        "\n",
        "### 2. Compatibilidade de Esquemas\n",
        "- `union()`: Combina por posição das colunas\n",
        "- `unionByName()`: Combina por nome das colunas (mais seguro)\n",
        "- Sempre verifique se os tipos de dados são compatíveis\n",
        "\n",
        "### 3. Tratamento de Duplicatas\n",
        "- `union()`, `intersect()`, `subtract()`: Removem duplicatas automaticamente\n",
        "- Use `unionAll()`, `intersectAll()` para preservar duplicatas\n",
        "\n",
        "### 4. Casos de Uso Comuns\n",
        "- **Union**: Consolidar dados de múltiplas fontes\n",
        "- **Intersect**: Encontrar registros comuns ou validar consistência\n",
        "- **Subtract**: Identificar diferenças ou registros únicos"
      ]
    },
    {
      "cell_type": "code",
      "execution_count": null,
      "id": "exemplo-performance",
      "metadata": {
        "id": "exemplo-performance"
      },
      "outputs": [],
      "source": [
        "# Exemplo de otimização com broadcast\n",
        "print(\"⚡ Exemplo de Otimização de Performance\")\n",
        "print(\"=\"*50)\n",
        "\n",
        "# Para DataFrames pequenos, use broadcast para melhor performance\n",
        "from pyspark.sql.functions import broadcast\n",
        "\n",
        "# Se um dos DataFrames for pequeno (< 10MB), use broadcast\n",
        "# df_resultado = df_grande.intersect(broadcast(df_pequeno))\n",
        "\n",
        "print(\"💡 Use broadcast() para DataFrames pequenos em operações de conjunto\")\n",
        "print(\"💡 Exemplo: df_grande.union(broadcast(df_pequeno))\")\n",
        "\n",
        "# Verificando o plano de execução\n",
        "print(\"\\n🔍 Para verificar o plano de execução:\")\n",
        "print(\"df.explain() - mostra como o Spark executará a operação\")\n",
        "\n",
        "# Exemplo de explain\n",
        "df_exemplo = df_matriz_simples.union(df_filial_simples)\n",
        "print(\"\\nPlano de execução para Union:\")\n",
        "df_exemplo.explain()"
      ]
    }
  ],
  "metadata": {
    "kernelspec": {
      "display_name": "Python 3",
      "language": "python",
      "name": "python3"
    },
    "language_info": {
      "codemirror_mode": {
        "name": "ipython",
        "version": 3
      },
      "file_extension": ".py",
      "mimetype": "text/x-python",
      "name": "python",
      "nbconvert_exporter": "python",
      "pygments_lexer": "ipython3",
      "version": "3.8.0"
    },
    "colab": {
      "provenance": []
    }
  },
  "nbformat": 4,
  "nbformat_minor": 5
}