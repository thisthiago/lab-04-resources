{
  "nbformat": 4,
  "nbformat_minor": 5,
  "metadata": {
    "kernelspec": {
      "display_name": "Python 3",
      "language": "python",
      "name": "python3"
    },
    "language_info": {
      "name": "python",
      "version": "3.10"
    },
    "colab": {
      "provenance": []
    }
  },
  "cells": [
    {
      "cell_type": "markdown",
      "metadata": {
        "id": "hHxl0kfvnlsr"
      },
      "source": [
        "# Funções \"Windowa\" (Window Functions) em PySpark\n",
        "\n",
        "As Funções de Janela permitem realizar cálculos sobre um conjunto de linhas relacionadas à linha atual, sem precisar agrupar os dados como em GROUP BY.\n",
        "\n",
        "**Conceitos importantes:**\n",
        "- **PARTITION BY**: divide os dados em grupos (partições)\n",
        "- **ORDER BY**: define a ordem dentro de cada partição\n",
        "- **Frame**: define o conjunto de linhas para o cálculo (padrão: todas as linhas da partição)"
      ],
      "id": "hHxl0kfvnlsr"
    },
    {
      "cell_type": "code",
      "source": [
        "# Instalar o OpenJDK 8\n",
        "!apt-get install openjdk-8-jdk-headless -qq > /dev/null\n",
        "\n",
        "# Baixar o Apache Spark (versão 3.5.0 com Hadoop 3)\n",
        "!wget -q https://archive.apache.org/dist/spark/spark-3.5.0/spark-3.5.0-bin-hadoop3.tgz\n",
        "\n",
        "# Extrair o arquivo baixado\n",
        "!tar xf spark-3.5.0-bin-hadoop3.tgz\n",
        "\n",
        "# Instalar a biblioteca findspark\n",
        "!pip install -q findspark\n",
        "\n",
        "import os\n",
        "\n",
        "os.environ[\"JAVA_HOME\"] = \"/usr/lib/jvm/java-8-openjdk-amd64\"\n",
        "os.environ[\"SPARK_HOME\"] = \"/content/spark-3.5.0-bin-hadoop3\"\n",
        "\n",
        "import findspark\n",
        "findspark.init()"
      ],
      "metadata": {
        "id": "-hLPqCONnuhq"
      },
      "id": "-hLPqCONnuhq",
      "execution_count": 1,
      "outputs": []
    },
    {
      "cell_type": "code",
      "metadata": {
        "id": "-LOrDJfDnlsv"
      },
      "source": [
        "from pyspark.sql import SparkSession\n",
        "from pyspark.sql import functions as F\n",
        "from pyspark.sql import Window\n",
        "\n",
        "# Criar SparkSession\n",
        "spark = SparkSession.builder.appName('FuncoesJanela').getOrCreate()"
      ],
      "id": "-LOrDJfDnlsv",
      "execution_count": 2,
      "outputs": []
    },
    {
      "cell_type": "code",
      "metadata": {
        "colab": {
          "base_uri": "https://localhost:8080/"
        },
        "id": "rfTee5r1nlsw",
        "outputId": "7c2d7e92-e547-4061-92db-7ededc1067ad"
      },
      "source": [
        "# Dados de exemplo\n",
        "dados_funcionarios = [\n",
        "    (\"João\", \"Vendas\", 15000),\n",
        "    (\"Maria\", \"TI\", 20000),\n",
        "    (\"Pedro\", \"Vendas\", 15000),\n",
        "    (\"Andrey\", \"Vendas\", 11000),\n",
        "    (\"Luan\", \"Vendas\", 12000),\n",
        "    (\"Bruna\", \"Vendas\", 13000),\n",
        "    (\"Ana\", \"Gerência\", 25000),\n",
        "    (\"Paulo\", \"TI\", 18000),\n",
        "    (\"Lucas\", \"Vendas\", 10000),\n",
        "    (\"Carla\", \"TI\", 22000),\n",
        "    (\"Roberto\", \"Gerência\", 23000)\n",
        "]\n",
        "df = spark.createDataFrame(dados_funcionarios, [\"nome\", \"departamento\", \"salario\"])\n",
        "df.show()"
      ],
      "id": "rfTee5r1nlsw",
      "execution_count": 3,
      "outputs": [
        {
          "output_type": "stream",
          "name": "stdout",
          "text": [
            "+-------+------------+-------+\n",
            "|   nome|departamento|salario|\n",
            "+-------+------------+-------+\n",
            "|   João|      Vendas|  15000|\n",
            "|  Maria|          TI|  20000|\n",
            "|  Pedro|      Vendas|  15000|\n",
            "| Andrey|      Vendas|  11000|\n",
            "|   Luan|      Vendas|  12000|\n",
            "|  Bruna|      Vendas|  13000|\n",
            "|    Ana|    Gerência|  25000|\n",
            "|  Paulo|          TI|  18000|\n",
            "|  Lucas|      Vendas|  10000|\n",
            "|  Carla|          TI|  22000|\n",
            "|Roberto|    Gerência|  23000|\n",
            "+-------+------------+-------+\n",
            "\n"
          ]
        }
      ]
    },
    {
      "cell_type": "markdown",
      "source": [
        "### Window\n",
        "O Window é um módulo do PySpark que permite criar janelas de análise, ou seja, conjuntos de linhas relacionadas à linha atual.\n",
        "Ele não faz nenhum cálculo sozinho — ele só define a “janela” que será usada pelas funções como rank(), row_number(), lag(), etc.\n",
        "\n",
        "**não cria um DataFrame nem calcula nada** — ela **define uma janela lógica**, que é usada pelas funções de janela (`rank()`, `row_number()`, `lag()`, etc.).\n",
        "\n",
        "Ou seja:\n",
        "\n",
        "* Você **não verá nada** apenas executando essa linha, porque não há dados sendo transformados ainda.\n",
        "* Para visualizar o efeito da janela, você precisa **aplicar uma função de janela sobre ela**, como fizemos com `rank()`:"
      ],
      "metadata": {
        "id": "KSsmlYuEoMzw"
      },
      "id": "KSsmlYuEoMzw"
    },
    {
      "cell_type": "code",
      "metadata": {
        "id": "89LlpyOGnlsx"
      },
      "source": [
        "janela = Window.partitionBy(\"departamento\").orderBy(\"salario\")"
      ],
      "id": "89LlpyOGnlsx",
      "execution_count": 7,
      "outputs": []
    },
    {
      "cell_type": "code",
      "metadata": {
        "colab": {
          "base_uri": "https://localhost:8080/"
        },
        "id": "G89fzh8Rnlsx",
        "outputId": "ffdf18f1-8509-43ec-b0ec-d3fea8335f5a"
      },
      "source": [
        "# RANK\n",
        "df_com_rank = df.withColumn(\"classificacao\", F.rank().over(janela))\n",
        "df_com_rank.orderBy(\"departamento\", \"salario\").show()"
      ],
      "id": "G89fzh8Rnlsx",
      "execution_count": 8,
      "outputs": [
        {
          "output_type": "stream",
          "name": "stdout",
          "text": [
            "+-------+------------+-------+-------------+\n",
            "|   nome|departamento|salario|classificacao|\n",
            "+-------+------------+-------+-------------+\n",
            "|Roberto|    Gerência|  23000|            1|\n",
            "|    Ana|    Gerência|  25000|            2|\n",
            "|  Paulo|          TI|  18000|            1|\n",
            "|  Maria|          TI|  20000|            2|\n",
            "|  Carla|          TI|  22000|            3|\n",
            "|  Lucas|      Vendas|  10000|            1|\n",
            "| Andrey|      Vendas|  11000|            2|\n",
            "|   Luan|      Vendas|  12000|            3|\n",
            "|  Bruna|      Vendas|  13000|            4|\n",
            "|   João|      Vendas|  15000|            5|\n",
            "|  Pedro|      Vendas|  15000|            5|\n",
            "+-------+------------+-------+-------------+\n",
            "\n"
          ]
        }
      ]
    },
    {
      "cell_type": "markdown",
      "source": [
        "##  `F.dense_rank().over(janela)`\n",
        "\n",
        "* `dense_rank()` é **uma variante do `rank()`**.\n",
        "* Ela também dá uma **classificação dentro da partição**, considerando a ordem da coluna definida (`salario`).\n",
        "\n",
        "**Diferença principal para `rank()`**:\n",
        "\n",
        "* `rank()` pula posições quando há empates (lacunas).\n",
        "* `dense_rank()` **não pula posições** — a próxima posição continua sequencial.\n",
        "\n",
        "> Observe: com `rank()`, a próxima posição após o empate de João e Pedro seria 7 (lacuna).\n",
        "> Com `dense_rank()`, continua 6 (sem lacunas).\n",
        "\n",
        "\n"
      ],
      "metadata": {
        "id": "89VDFEttpwRB"
      },
      "id": "89VDFEttpwRB"
    },
    {
      "cell_type": "code",
      "metadata": {
        "colab": {
          "base_uri": "https://localhost:8080/"
        },
        "id": "OFxtm7epnlsy",
        "outputId": "ce99e5f8-7a50-458a-a772-ac695e5a1b6f"
      },
      "source": [
        "# DENSE_RANK\n",
        "df_com_rank = df_com_rank.withColumn(\"classificacao_densa\", F.dense_rank().over(janela))\n",
        "df_com_rank.orderBy(\"departamento\", \"salario\").show()"
      ],
      "id": "OFxtm7epnlsy",
      "execution_count": 9,
      "outputs": [
        {
          "output_type": "stream",
          "name": "stdout",
          "text": [
            "+-------+------------+-------+-------------+-------------------+\n",
            "|   nome|departamento|salario|classificacao|classificacao_densa|\n",
            "+-------+------------+-------+-------------+-------------------+\n",
            "|Roberto|    Gerência|  23000|            1|                  1|\n",
            "|    Ana|    Gerência|  25000|            2|                  2|\n",
            "|  Paulo|          TI|  18000|            1|                  1|\n",
            "|  Maria|          TI|  20000|            2|                  2|\n",
            "|  Carla|          TI|  22000|            3|                  3|\n",
            "|  Lucas|      Vendas|  10000|            1|                  1|\n",
            "| Andrey|      Vendas|  11000|            2|                  2|\n",
            "|   Luan|      Vendas|  12000|            3|                  3|\n",
            "|  Bruna|      Vendas|  13000|            4|                  4|\n",
            "|   João|      Vendas|  15000|            5|                  5|\n",
            "|  Pedro|      Vendas|  15000|            5|                  5|\n",
            "+-------+------------+-------+-------------+-------------------+\n",
            "\n"
          ]
        }
      ]
    },
    {
      "cell_type": "markdown",
      "source": [
        "###`percent_rank()`\n",
        "\n",
        "\n",
        "`percent_rank()` **mostra a posição relativa de uma linha dentro do grupo**, em **percentual**, entre 0 e 1.\n",
        "\n",
        "* 0 significa que a linha está **no início** da partição.\n",
        "* 1 significa que a linha está **no final** da partição.\n",
        "\n",
        "\n",
        "**Fórmula básica:**\n",
        "\n",
        "$$\n",
        "\\text{percent_rank} = \\frac{\\text{rank} - 1}{\\text{total de linhas na partição} - 1}\n",
        "$$\n",
        "\n",
        "* `rank` = classificação da linha (igual ao `rank()` que vimos antes)\n",
        "* `total de linhas na partição` = número de linhas no grupo\n",
        "\n"
      ],
      "metadata": {
        "id": "agkwBMv6qHXg"
      },
      "id": "agkwBMv6qHXg"
    },
    {
      "cell_type": "code",
      "metadata": {
        "colab": {
          "base_uri": "https://localhost:8080/"
        },
        "id": "Zm4Wka3Knlsy",
        "outputId": "79b4e309-05ce-49ba-9326-cec0c524b68e"
      },
      "source": [
        "# PERCENT_RANK\n",
        "df_com_rank = df_com_rank.withColumn(\"percentil\", F.percent_rank().over(janela))\n",
        "df_com_rank.orderBy(\"departamento\", \"salario\").show()"
      ],
      "id": "Zm4Wka3Knlsy",
      "execution_count": 10,
      "outputs": [
        {
          "output_type": "stream",
          "name": "stdout",
          "text": [
            "+-------+------------+-------+-------------+-------------------+---------+\n",
            "|   nome|departamento|salario|classificacao|classificacao_densa|percentil|\n",
            "+-------+------------+-------+-------------+-------------------+---------+\n",
            "|Roberto|    Gerência|  23000|            1|                  1|      0.0|\n",
            "|    Ana|    Gerência|  25000|            2|                  2|      1.0|\n",
            "|  Paulo|          TI|  18000|            1|                  1|      0.0|\n",
            "|  Maria|          TI|  20000|            2|                  2|      0.5|\n",
            "|  Carla|          TI|  22000|            3|                  3|      1.0|\n",
            "|  Lucas|      Vendas|  10000|            1|                  1|      0.0|\n",
            "| Andrey|      Vendas|  11000|            2|                  2|      0.2|\n",
            "|   Luan|      Vendas|  12000|            3|                  3|      0.4|\n",
            "|  Bruna|      Vendas|  13000|            4|                  4|      0.6|\n",
            "|   João|      Vendas|  15000|            5|                  5|      0.8|\n",
            "|  Pedro|      Vendas|  15000|            5|                  5|      0.8|\n",
            "+-------+------------+-------+-------------+-------------------+---------+\n",
            "\n"
          ]
        }
      ]
    },
    {
      "cell_type": "markdown",
      "source": [
        "### **`ROW_NUMBER()`**\n",
        "\n",
        "* Atribui **um número sequencial único** a cada linha dentro da partição definida pela janela.\n",
        "* Sempre **começa em 1** e aumenta de 1 em 1.\n",
        "* **Não há empates**: mesmo que duas linhas tenham o mesmo valor, cada uma recebe um número diferente.\n",
        "\n",
        "\n"
      ],
      "metadata": {
        "id": "SipPDMQVrA5K"
      },
      "id": "SipPDMQVrA5K"
    },
    {
      "cell_type": "code",
      "metadata": {
        "colab": {
          "base_uri": "https://localhost:8080/"
        },
        "id": "WjY1IvSenlsy",
        "outputId": "0001cd86-bd8a-4385-ac63-0f2e60680bd1"
      },
      "source": [
        "# ROW_NUMBER\n",
        "df_com_rank = df_com_rank.withColumn(\"numero_linha\", F.row_number().over(janela))\n",
        "df_com_rank.orderBy(\"departamento\", \"salario\").show()"
      ],
      "id": "WjY1IvSenlsy",
      "execution_count": 11,
      "outputs": [
        {
          "output_type": "stream",
          "name": "stdout",
          "text": [
            "+-------+------------+-------+-------------+-------------------+---------+------------+\n",
            "|   nome|departamento|salario|classificacao|classificacao_densa|percentil|numero_linha|\n",
            "+-------+------------+-------+-------------+-------------------+---------+------------+\n",
            "|Roberto|    Gerência|  23000|            1|                  1|      0.0|           1|\n",
            "|    Ana|    Gerência|  25000|            2|                  2|      1.0|           2|\n",
            "|  Paulo|          TI|  18000|            1|                  1|      0.0|           1|\n",
            "|  Maria|          TI|  20000|            2|                  2|      0.5|           2|\n",
            "|  Carla|          TI|  22000|            3|                  3|      1.0|           3|\n",
            "|  Lucas|      Vendas|  10000|            1|                  1|      0.0|           1|\n",
            "| Andrey|      Vendas|  11000|            2|                  2|      0.2|           2|\n",
            "|   Luan|      Vendas|  12000|            3|                  3|      0.4|           3|\n",
            "|  Bruna|      Vendas|  13000|            4|                  4|      0.6|           4|\n",
            "|   João|      Vendas|  15000|            5|                  5|      0.8|           5|\n",
            "|  Pedro|      Vendas|  15000|            5|                  5|      0.8|           6|\n",
            "+-------+------------+-------+-------------+-------------------+---------+------------+\n",
            "\n"
          ]
        }
      ]
    },
    {
      "cell_type": "markdown",
      "source": [
        "Perfeito! Vamos explicar de forma simples o **`LAG()`**.\n",
        "\n",
        "---\n",
        "\n",
        "### **`LAG()`**\n",
        "\n",
        "* Retorna o **valor de uma coluna de uma linha anterior** dentro da mesma janela (partição).\n",
        "* Sintaxe básica:\n",
        "\n",
        "```python\n",
        "F.lag(coluna, offset, default).over(janela)\n",
        "```\n",
        "\n",
        "* `coluna` → coluna que você quer “olhar para trás”\n",
        "* `offset` → quantas linhas antes você quer olhar (padrão = 1)\n",
        "* `default` → valor caso não exista linha anterior (opcional)\n",
        "\n",
        "---\n",
        "\n",
        "**Supondo o departamento Vendas, ordenado por salário:**\n",
        "\n",
        "| nome   | salario | nome\\_anterior | salario\\_anterior |\n",
        "| ------ | ------- | -------------- | ----------------- |\n",
        "| Lucas  | 10000   | null           | null              |\n",
        "| Andrey | 11000   | Lucas          | 10000             |\n",
        "| Luan   | 12000   | Andrey         | 11000             |\n",
        "| Bruna  | 13000   | Luan           | 12000             |\n",
        "| João   | 15000   | Bruna          | 13000             |\n",
        "| Pedro  | 15000   | João           | 15000             |\n",
        "\n",
        "---\n",
        "\n",
        "### Observações:\n",
        "\n",
        "1. **Linha inicial da partição** → não tem valor anterior → retorna `null` (ou valor default, se definido).\n",
        "2. `offset` maior que 1 → olha mais linhas para trás. Ex.: `lag(\"salario\", 2)` retorna o valor de duas linhas antes.\n",
        "3. Muito útil para **comparar valores com a linha anterior**, calcular diferenças ou crescimento entre linhas."
      ],
      "metadata": {
        "id": "NP0fUcXirEYZ"
      },
      "id": "NP0fUcXirEYZ"
    },
    {
      "cell_type": "code",
      "metadata": {
        "colab": {
          "base_uri": "https://localhost:8080/"
        },
        "id": "WBecf1dinlsy",
        "outputId": "7375c8c4-3407-4f24-f7c8-601957d442c2"
      },
      "source": [
        "# LAG\n",
        "df_com_navegacao = df.withColumn(\"nome_anterior\", F.lag(\"nome\", 1).over(janela))\n",
        "df_com_navegacao = df_com_navegacao.withColumn(\"salario_anterior\", F.lag(\"salario\", 1).over(janela))\n",
        "df_com_navegacao.orderBy(\"departamento\", \"salario\").show()"
      ],
      "id": "WBecf1dinlsy",
      "execution_count": 12,
      "outputs": [
        {
          "output_type": "stream",
          "name": "stdout",
          "text": [
            "+-------+------------+-------+-------------+----------------+\n",
            "|   nome|departamento|salario|nome_anterior|salario_anterior|\n",
            "+-------+------------+-------+-------------+----------------+\n",
            "|Roberto|    Gerência|  23000|         NULL|            NULL|\n",
            "|    Ana|    Gerência|  25000|      Roberto|           23000|\n",
            "|  Paulo|          TI|  18000|         NULL|            NULL|\n",
            "|  Maria|          TI|  20000|        Paulo|           18000|\n",
            "|  Carla|          TI|  22000|        Maria|           20000|\n",
            "|  Lucas|      Vendas|  10000|         NULL|            NULL|\n",
            "| Andrey|      Vendas|  11000|        Lucas|           10000|\n",
            "|   Luan|      Vendas|  12000|       Andrey|           11000|\n",
            "|  Bruna|      Vendas|  13000|         Luan|           12000|\n",
            "|   João|      Vendas|  15000|        Bruna|           13000|\n",
            "|  Pedro|      Vendas|  15000|         João|           15000|\n",
            "+-------+------------+-------+-------------+----------------+\n",
            "\n"
          ]
        }
      ]
    },
    {
      "cell_type": "markdown",
      "source": [
        "### **`LEAD()`**\n",
        "\n",
        "* É **o inverso do `LAG()`**.\n",
        "* Retorna o **valor de uma coluna de uma linha seguinte** dentro da mesma janela (partição).\n",
        "* Sintaxe básica:\n",
        "\n",
        "```python\n",
        "F.lead(coluna, offset, default).over(janela)\n",
        "```\n",
        "\n",
        "* `coluna` → coluna que você quer “olhar para frente”\n",
        "* `offset` → quantas linhas à frente você quer olhar (padrão = 1)\n",
        "* `default` → valor caso não exista linha seguinte (opcional)\n",
        "\n",
        "---\n",
        "\n",
        "**Supondo o departamento Vendas, ordenado por salário:**\n",
        "\n",
        "| nome   | salario | nome\\_proximo | salario\\_proximo |\n",
        "| ------ | ------- | ------------- | ---------------- |\n",
        "| Lucas  | 10000   | Andrey        | 11000            |\n",
        "| Andrey | 11000   | Luan          | 12000            |\n",
        "| Luan   | 12000   | Bruna         | 13000            |\n",
        "| Bruna  | 13000   | João          | 15000            |\n",
        "| João   | 15000   | Pedro         | 15000            |\n",
        "| Pedro  | 15000   | null          | null             |\n",
        "\n",
        "---\n",
        "\n",
        "### Observações\n",
        "\n",
        "1. **Última linha da partição** → não tem linha seguinte → retorna `null` (ou valor default, se definido).\n",
        "2. `offset` maior que 1 → olha mais linhas à frente. Ex.: `lead(\"salario\", 2)` retorna o valor de duas linhas depois.\n",
        "3. Muito útil para **comparar valores com a próxima linha**, calcular crescimento futuro ou prever tendências."
      ],
      "metadata": {
        "id": "INF54CwErWgJ"
      },
      "id": "INF54CwErWgJ"
    },
    {
      "cell_type": "code",
      "metadata": {
        "colab": {
          "base_uri": "https://localhost:8080/"
        },
        "id": "SOexZOeGnlsz",
        "outputId": "7a7b5268-565a-40c1-b2ed-8529522b61a0"
      },
      "source": [
        "# LEAD\n",
        "df_com_navegacao = df_com_navegacao.withColumn(\"nome_proximo\", F.lead(\"nome\", 1).over(janela))\n",
        "df_com_navegacao = df_com_navegacao.withColumn(\"salario_proximo\", F.lead(\"salario\", 1).over(janela))\n",
        "df_com_navegacao.orderBy(\"departamento\", \"salario\").show()"
      ],
      "id": "SOexZOeGnlsz",
      "execution_count": 13,
      "outputs": [
        {
          "output_type": "stream",
          "name": "stdout",
          "text": [
            "+-------+------------+-------+-------------+----------------+------------+---------------+\n",
            "|   nome|departamento|salario|nome_anterior|salario_anterior|nome_proximo|salario_proximo|\n",
            "+-------+------------+-------+-------------+----------------+------------+---------------+\n",
            "|Roberto|    Gerência|  23000|         NULL|            NULL|         Ana|          25000|\n",
            "|    Ana|    Gerência|  25000|      Roberto|           23000|        NULL|           NULL|\n",
            "|  Paulo|          TI|  18000|         NULL|            NULL|       Maria|          20000|\n",
            "|  Maria|          TI|  20000|        Paulo|           18000|       Carla|          22000|\n",
            "|  Carla|          TI|  22000|        Maria|           20000|        NULL|           NULL|\n",
            "|  Lucas|      Vendas|  10000|         NULL|            NULL|      Andrey|          11000|\n",
            "| Andrey|      Vendas|  11000|        Lucas|           10000|        Luan|          12000|\n",
            "|   Luan|      Vendas|  12000|       Andrey|           11000|       Bruna|          13000|\n",
            "|  Bruna|      Vendas|  13000|         Luan|           12000|        João|          15000|\n",
            "|   João|      Vendas|  15000|        Bruna|           13000|       Pedro|          15000|\n",
            "|  Pedro|      Vendas|  15000|         João|           15000|        NULL|           NULL|\n",
            "+-------+------------+-------+-------------+----------------+------------+---------------+\n",
            "\n"
          ]
        }
      ]
    },
    {
      "cell_type": "code",
      "metadata": {
        "colab": {
          "base_uri": "https://localhost:8080/"
        },
        "id": "glfCkCoknlsz",
        "outputId": "86b7a128-f7bb-4464-e13d-0203a7406e71"
      },
      "source": [
        "analise_completa = (\n",
        "    df\n",
        "    .withColumn(\"posicao_salario\", F.rank().over(janela))\n",
        "    .withColumn(\"percentil_salario\", F.percent_rank().over(janela))\n",
        "    .withColumn(\"diferenca_anterior\", F.col(\"salario\") - F.lag(\"salario\", 1).over(janela))\n",
        "    .withColumn(\"maior_salario_depto\", F.max(\"salario\").over(Window.partitionBy(\"departamento\")))\n",
        "    .withColumn(\"menor_salario_depto\", F.min(\"salario\").over(Window.partitionBy(\"departamento\")))\n",
        "    .withColumn(\"media_salario_depto\", F.avg(\"salario\").over(Window.partitionBy(\"departamento\")))\n",
        "    .withColumn(\"diferenca_da_media\", F.col(\"salario\") - F.avg(\"salario\").over(Window.partitionBy(\"departamento\")))\n",
        ")\n",
        "\n",
        "analise_completa.orderBy(\"departamento\", \"salario\").show(truncate=False)\n"
      ],
      "id": "glfCkCoknlsz",
      "execution_count": 16,
      "outputs": [
        {
          "output_type": "stream",
          "name": "stdout",
          "text": [
            "+-------+------------+-------+---------------+-----------------+------------------+-------------------+-------------------+-------------------+------------------+\n",
            "|nome   |departamento|salario|posicao_salario|percentil_salario|diferenca_anterior|maior_salario_depto|menor_salario_depto|media_salario_depto|diferenca_da_media|\n",
            "+-------+------------+-------+---------------+-----------------+------------------+-------------------+-------------------+-------------------+------------------+\n",
            "|Roberto|Gerência    |23000  |1              |0.0              |NULL              |25000              |23000              |24000.0            |-1000.0           |\n",
            "|Ana    |Gerência    |25000  |2              |1.0              |2000              |25000              |23000              |24000.0            |1000.0            |\n",
            "|Paulo  |TI          |18000  |1              |0.0              |NULL              |22000              |18000              |20000.0            |-2000.0           |\n",
            "|Maria  |TI          |20000  |2              |0.5              |2000              |22000              |18000              |20000.0            |0.0               |\n",
            "|Carla  |TI          |22000  |3              |1.0              |2000              |22000              |18000              |20000.0            |2000.0            |\n",
            "|Lucas  |Vendas      |10000  |1              |0.0              |NULL              |15000              |10000              |12666.666666666666 |-2666.666666666666|\n",
            "|Andrey |Vendas      |11000  |2              |0.2              |1000              |15000              |10000              |12666.666666666666 |-1666.666666666666|\n",
            "|Luan   |Vendas      |12000  |3              |0.4              |1000              |15000              |10000              |12666.666666666666 |-666.6666666666661|\n",
            "|Bruna  |Vendas      |13000  |4              |0.6              |1000              |15000              |10000              |12666.666666666666 |333.33333333333394|\n",
            "|João   |Vendas      |15000  |5              |0.8              |2000              |15000              |10000              |12666.666666666666 |2333.333333333334 |\n",
            "|Pedro  |Vendas      |15000  |5              |0.8              |0                 |15000              |10000              |12666.666666666666 |2333.333333333334 |\n",
            "+-------+------------+-------+---------------+-----------------+------------------+-------------------+-------------------+-------------------+------------------+\n",
            "\n"
          ]
        }
      ]
    },
    {
      "cell_type": "markdown",
      "metadata": {
        "id": "D1UlnmIOnls0"
      },
      "source": [
        "**Dicas importantes sobre funções de janela:**\n",
        "1. Sempre definir **ORDER BY** quando usar funções como rank(), row_number()\n",
        "2. **PARTITION BY** é opcional - sem ele, considera todo o dataset como uma partição\n",
        "3. Funções de janela **não reduzem o número de linhas** (diferente de GROUP BY)\n",
        "4. Cuidado com performance em datasets muito grandes\n",
        "5. Use frames personalizados para cálculos específicos (médias móveis, etc.)"
      ],
      "id": "D1UlnmIOnls0"
    },
    {
      "cell_type": "markdown",
      "metadata": {
        "id": "gYtJ0cWenls0"
      },
      "source": [
        "**Casos de uso comuns:**\n",
        "- Ranking de vendedores por região\n",
        "- Top N produtos por categoria\n",
        "- Crescimento comparativo período anterior\n",
        "- Percentis de performance\n",
        "- Médias móveis para análise temporal\n",
        "- Identificação de outliers em grupos"
      ],
      "id": "gYtJ0cWenls0"
    },
    {
      "cell_type": "code",
      "metadata": {
        "id": "rADB9oo7nls0"
      },
      "source": [
        "spark.stop()"
      ],
      "id": "rADB9oo7nls0",
      "execution_count": null,
      "outputs": []
    }
  ]
}